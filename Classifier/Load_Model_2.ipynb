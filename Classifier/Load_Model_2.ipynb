{
 "cells": [
  {
   "cell_type": "code",
   "execution_count": 1,
   "metadata": {},
   "outputs": [
    {
     "name": "stdout",
     "output_type": "stream",
     "text": [
      "Welcome to JupyROOT 6.18/04\n",
      "All classes initialized successfully!!!\n"
     ]
    }
   ],
   "source": [
    "import tensorflow as tf\n",
    "from tensorflow.python.keras import models as m\n",
    "from tensorflow.python.keras import layers as l\n",
    "\n",
    "import numpy as np\n",
    "import matplotlib.pyplot as plt\n",
    "from sklearn.preprocessing import StandardScaler\n",
    "import joblib\n",
    "from sklearn.metrics import confusion_matrix, fbeta_score\n",
    "from scikitplot.metrics import plot_roc, plot_confusion_matrix\n",
    "\n",
    "import seaborn as sn\n",
    "import pandas as pd\n",
    "\n",
    "from ROOT import TFile, TTree, TChain\n",
    "from ROOT import TH1F, TCanvas\n",
    "\n",
    "import os\n",
    "import sys\n",
    "sys.path.insert(0, os.path.abspath('/home/arsahasransu/Documents/SoftDisplacedLeptons/Classifier/'))\n",
    "\n",
    "print(\"All classes initialized successfully!!!\")"
   ]
  },
  {
   "cell_type": "code",
   "execution_count": 2,
   "metadata": {},
   "outputs": [],
   "source": [
    "import plotBeautifier as pB"
   ]
  },
  {
   "cell_type": "code",
   "execution_count": 3,
   "metadata": {},
   "outputs": [
    {
     "name": "stdout",
     "output_type": "stream",
     "text": [
      "Trial works fine. Hello,AR\n"
     ]
    }
   ],
   "source": [
    "pB.trial_func(\"AR\")"
   ]
  },
  {
   "cell_type": "code",
   "execution_count": null,
   "metadata": {},
   "outputs": [],
   "source": [
    "sigChan = TChain(\"varTree\")\n",
    "sigChan.Add(\"../signal_BP_200_220_2cm_DNN.root\")\n",
    "sigChanTrain = TChain(\"varTree\")\n",
    "sigChanTrain.Add(\"../signal_train.root\")\n",
    "bkgChan = TChain(\"varTree\")\n",
    "bkgChan.Add(\"../background_DNN.root\")\n",
    "print(\"Data read from the trees. Printing out the contents.\")"
   ]
  },
  {
   "cell_type": "code",
   "execution_count": null,
   "metadata": {},
   "outputs": [],
   "source": [
    "sigChan.Print()\n",
    "sigChanTrain.Print()\n",
    "bkgChan.Print()"
   ]
  },
  {
   "cell_type": "code",
   "execution_count": 11,
   "metadata": {},
   "outputs": [
    {
     "name": "stdout",
     "output_type": "stream",
     "text": [
      "(15806, 9)\n",
      "(3286, 9)\n",
      "(3952, 9)\n",
      "(822, 9)\n"
     ]
    }
   ],
   "source": [
    "# Read input data from root files\n",
    "sigSampleSize = sigChan.GetEntries()\n",
    "bkgSampleSize = bkgChan.GetEntries()\n",
    "\n",
    "# Convert the input data to matrices\n",
    "sigFull = sigChan.AsMatrix()\n",
    "bkgFull = bkgChan.AsMatrix()\n",
    "\n",
    "# Choose 20% of the data for testing and 80% of the data for training\n",
    "sigTrain = sigFull[0:int(0.8*sigFull.shape[0])][:]\n",
    "bkgTrain = bkgFull[0:int(0.8*bkgFull.shape[0])][:]\n",
    "sigTest = sigFull[int(0.8*sigFull.shape[0]):][:]\n",
    "bkgTest = bkgFull[int(0.8*bkgFull.shape[0]):][:]\n",
    "print(sigTrain.shape)\n",
    "print(bkgTrain.shape)\n",
    "print(sigTest.shape)\n",
    "print(bkgTest.shape)"
   ]
  },
  {
   "cell_type": "code",
   "execution_count": 14,
   "metadata": {},
   "outputs": [
    {
     "name": "stdout",
     "output_type": "stream",
     "text": [
      "Model: \"sequential\"\n",
      "_________________________________________________________________\n",
      "Layer (type)                 Output Shape              Param #   \n",
      "=================================================================\n",
      "dense (Dense)                (None, 18)                180       \n",
      "_________________________________________________________________\n",
      "dropout (Dropout)            (None, 18)                0         \n",
      "_________________________________________________________________\n",
      "dense_1 (Dense)              (None, 18)                342       \n",
      "_________________________________________________________________\n",
      "dropout_1 (Dropout)          (None, 18)                0         \n",
      "_________________________________________________________________\n",
      "dense_2 (Dense)              (None, 2)                 38        \n",
      "=================================================================\n",
      "Total params: 560\n",
      "Trainable params: 560\n",
      "Non-trainable params: 0\n",
      "_________________________________________________________________\n"
     ]
    },
    {
     "name": "stderr",
     "output_type": "stream",
     "text": [
      "2020-04-20 22:04:25.793160: I tensorflow/core/platform/cpu_feature_guard.cc:143] Your CPU supports instructions that this TensorFlow binary was not compiled to use: SSE3 SSE4.1 SSE4.2 AVX AVX2 FMA\n"
     ]
    }
   ],
   "source": [
    "# Load the input data scaler\n",
    "scaler = joblib.load(\"./scaler.save\")\n",
    "\n",
    "# Load the model\n",
    "loaded_model = m.load_model(\"./simplePer.h5\")\n",
    "loaded_model.summary()"
   ]
  },
  {
   "cell_type": "code",
   "execution_count": 15,
   "metadata": {},
   "outputs": [
    {
     "name": "stdout",
     "output_type": "stream",
     "text": [
      "(19092, 9)\n",
      "(4774, 9)\n",
      "(19092, 2)\n",
      "(4774, 2)\n"
     ]
    }
   ],
   "source": [
    "xTrain = np.concatenate((sigTrain,bkgTrain))\n",
    "xTest = np.concatenate((sigTest,bkgTest))\n",
    "yTrain = np.matrix([[1,0]]*sigTrain.shape[0]+[[0,1]]*bkgTrain.shape[0])\n",
    "yTest = np.matrix([[1,0]]*sigTest.shape[0]+[[0,1]]*bkgTest.shape[0])\n",
    "\n",
    "print(xTrain.shape)\n",
    "print(xTest.shape)\n",
    "print(yTrain.shape)\n",
    "print(yTest.shape)"
   ]
  },
  {
   "cell_type": "code",
   "execution_count": 16,
   "metadata": {},
   "outputs": [],
   "source": [
    "# Randomize the training and testing samples\n",
    "arr = np.arange(xTrain.shape[0])\n",
    "np.random.shuffle(arr)\n",
    "xTrain = xTrain[arr,:]\n",
    "yTrain = yTrain[arr,:]\n",
    "\n",
    "arr = np.arange(xTest.shape[0])\n",
    "np.random.shuffle(arr)\n",
    "xTest = xTest[arr,:]\n",
    "yTest = yTest[arr,:]"
   ]
  },
  {
   "cell_type": "code",
   "execution_count": 17,
   "metadata": {},
   "outputs": [],
   "source": [
    "# Predict on the samples\n",
    "sigTrainScaled = scaler.transform(sigTrain)\n",
    "bkgTrainScaled = scaler.transform(bkgTrain)\n",
    "sigTestScaled = scaler.transform(sigTest)\n",
    "bkgTestScaled = scaler.transform(bkgTest)\n",
    "xTestScaled = scaler.transform(xTest)\n",
    "sigTrainPredict = loaded_model.predict(sigTrainScaled)\n",
    "bkgTrainPredict = loaded_model.predict(bkgTrainScaled)\n",
    "sigTestPredict = loaded_model.predict(sigTestScaled)\n",
    "bkgTestPredict = loaded_model.predict(bkgTestScaled)\n",
    "xTestPredict = loaded_model.predict(xTestScaled)"
   ]
  },
  {
   "cell_type": "code",
   "execution_count": 18,
   "metadata": {},
   "outputs": [
    {
     "name": "stdout",
     "output_type": "stream",
     "text": [
      "[[9.9971992e-01 2.8008650e-04]\n",
      " [8.1528169e-01 1.8471827e-01]\n",
      " [9.9417216e-01 5.8278060e-03]\n",
      " [9.1558641e-01 8.4413640e-02]\n",
      " [1.0000000e+00 1.7435025e-09]]\n"
     ]
    }
   ],
   "source": [
    "print(sigTrainPredict[0:5])"
   ]
  },
  {
   "cell_type": "code",
   "execution_count": 19,
   "metadata": {},
   "outputs": [
    {
     "name": "stdout",
     "output_type": "stream",
     "text": [
      "[0.9997199  0.8152817  0.99417216 0.9155864  1.        ]\n"
     ]
    }
   ],
   "source": [
    "print(np.array(sigTrainPredict)[0:5,0])"
   ]
  },
  {
   "cell_type": "code",
   "execution_count": 20,
   "metadata": {
    "scrolled": true
   },
   "outputs": [
    {
     "name": "stdout",
     "output_type": "stream",
     "text": [
      "Discriminator plotted!!!\n"
     ]
    },
    {
     "data": {
      "image/png": "[encoded data removed]",
      "text/plain": [
       "<Figure size 432x288 with 1 Axes>"
      ]
     },
     "metadata": {
      "needs_background": "light"
     },
     "output_type": "display_data"
    }
   ],
   "source": [
    "# Discriminator shape\n",
    "plt.clf()\n",
    "plt.yscale('log')\n",
    "plt.hist(np.array(sigTrainPredict)[:,0], bins=20, range=(0,1), density=True, color=None, histtype='step', label='sigTrain')\n",
    "plt.hist(np.array(bkgTrainPredict)[:,0], bins=20, range=(0,1), density=True, color=None, histtype='step', label='bkgTrain')\n",
    "plt.hist(np.array(sigTestPredict)[:,0], bins=20, range=(0,1), density=True, color=None, histtype='step', label='sigTest')\n",
    "plt.hist(np.array(bkgTestPredict)[:,0], bins=20, range=(0,1), density=True, color=None, histtype='step', label='bkgTest')\n",
    "plt.xlabel(\"Sig_Prob\")\n",
    "plt.ylabel(\"#Events (Area scaled to 1)\")\n",
    "plt.legend()\n",
    "plt.savefig(\"Discriminator.pdf\")\n",
    "print(\"Discriminator plotted!!!\")"
   ]
  },
  {
   "cell_type": "code",
   "execution_count": 21,
   "metadata": {},
   "outputs": [
    {
     "name": "stdout",
     "output_type": "stream",
     "text": [
      "0.5242661368219431 0.7669960330109502\n",
      "Chi2 = 101.544131, Prob = 0.410376, NDF = 99, igood = 2\n",
      "Chi2 = 102.157872, Prob = 0.393829, NDF = 99, igood = 2\n"
     ]
    },
    {
     "name": "stderr",
     "output_type": "stream",
     "text": [
      "Info in <TH1F::Chi2TestX>: There is a bin in h2 with less than 1 event.\n",
      "\n",
      "Info in <TH1F::Chi2TestX>: There is a bin in h2 with less than 1 event.\n",
      "\n",
      "Info in <TCanvas::Print>: pdf file Discriminator_TEMP.pdf has been created\n"
     ]
    }
   ],
   "source": [
    "# Discriminator Shape in ROOT plotting\n",
    "c1 = TCanvas()\n",
    "nBins = 100\n",
    "sigTrainHisto = TH1F(\"\",\"\",nBins,0,1)\n",
    "bkgTrainHisto = TH1F(\"\",\"\",nBins,0,1)\n",
    "sigTestHisto = TH1F(\"\",\"\",nBins,0,1)\n",
    "bkgTestHisto = TH1F(\"\",\"\",nBins,0,1)\n",
    "sigTrainHisto.FillN(sigTrainPredict.shape[0],(sigTrainPredict[:,0]).astype(float),np.ones(sigTrainPredict.shape[0]))\n",
    "bkgTrainHisto.FillN(bkgTrainPredict.shape[0],(bkgTrainPredict[:,0]).astype(float),np.ones(bkgTrainPredict.shape[0]))\n",
    "sigTestHisto.FillN(sigTestPredict.shape[0],(sigTestPredict[:,0]).astype(float),np.ones(sigTestPredict.shape[0]))\n",
    "bkgTestHisto.FillN(bkgTestPredict.shape[0],(bkgTestPredict[:,0]).astype(float),np.ones(bkgTestPredict.shape[0]))\n",
    "\n",
    "bkgTrainHistoTemp = bkgTrainHisto\n",
    "bkgTestHistoTemp = bkgTestHisto\n",
    "sigTrainHistoTemp = sigTrainHisto\n",
    "sigTestHistoTemp = sigTestHisto\n",
    "bkgTrainHistoTemp.Scale(1.0/bkgTrainHisto.Integral())\n",
    "bkgTestHistoTemp.Scale(1.0/bkgTestHisto.Integral())\n",
    "sigTrainHistoTemp.Scale(1.0/sigTrainHisto.Integral())\n",
    "sigTestHistoTemp.Scale(1.0/sigTestHisto.Integral())\n",
    "pBkg = bkgTrainHistoTemp.KolmogorovTest(bkgTestHistoTemp)\n",
    "pSig = sigTrainHistoTemp.KolmogorovTest(sigTestHistoTemp)\n",
    "print(pBkg, pSig)\n",
    "bkgTrainHistoTemp.Chi2Test(bkgTestHistoTemp, \"UU NORM P\")\n",
    "sigTrainHistoTemp.Chi2Test(sigTestHistoTemp, \"UU NORM P\")\n",
    "bkgTrainHistoTemp.Draw(\"SAME HISTO E\")\n",
    "bkgTestHistoTemp.Draw(\"SAME HISTO E\")\n",
    "sigTrainHistoTemp.Draw(\"SAME HISTO E\")\n",
    "sigTestHistoTemp.Draw(\"SAME HISTO E\")\n",
    "c1.SetLogy()\n",
    "c1.SaveAs(\"Discriminator_TEMP.pdf\")"
   ]
  },
  {
   "cell_type": "code",
   "execution_count": 22,
   "metadata": {},
   "outputs": [
    {
     "name": "stdout",
     "output_type": "stream",
     "text": [
      "Created a canvas\n",
      "1\n",
      "2\n",
      "3\n",
      "4\n"
     ]
    },
    {
     "name": "stderr",
     "output_type": "stream",
     "text": [
      "Warning in <TCanvas::Constructor>: Deleting canvas with same name: c1\n",
      "Info in <TCanvas::Print>: pdf file Discriminator_Beautifier.pdf has been created\n"
     ]
    }
   ],
   "source": [
    "# Using plotBeautifier\n",
    "\n",
    "histList = [sigTrainHisto, bkgTrainHisto, sigTestHisto, bkgTestHisto]\n",
    "labelList = [\"sigTrainHisto\", \"bkgTrainHisto\", \"sigTestHisto\", \"bkgTestHisto\"]\n",
    "xAxisTitle = \"Sig_Prob\"\n",
    "yAxisTitle = \"# Events (scaled to 1)\"\n",
    "outPlotName = \"Discriminator_Beautifier\"\n",
    "pB.plotBeautifier(histList, labelList, xAxisTitle, yAxisTitle, outPlotName)"
   ]
  },
  {
   "cell_type": "code",
   "execution_count": 23,
   "metadata": {},
   "outputs": [
    {
     "data": {
      "text/plain": [
       "numpy.ndarray"
      ]
     },
     "execution_count": 23,
     "metadata": {},
     "output_type": "execute_result"
    }
   ],
   "source": [
    "type((sigTrainPredict[:,0]).astype(float))"
   ]
  },
  {
   "cell_type": "code",
   "execution_count": 24,
   "metadata": {},
   "outputs": [
    {
     "name": "stdout",
     "output_type": "stream",
     "text": [
      "Confusion Matrix printed!!!\n"
     ]
    },
    {
     "data": {
      "text/plain": [
       "<Figure size 432x288 with 0 Axes>"
      ]
     },
     "metadata": {},
     "output_type": "display_data"
    },
    {
     "data": {
      "text/plain": [
       "<Figure size 720x504 with 0 Axes>"
      ]
     },
     "metadata": {},
     "output_type": "display_data"
    },
    {
     "data": {
      "image/png": "[encoded data removed]",
      "text/plain": [
       "<Figure size 432x288 with 2 Axes>"
      ]
     },
     "metadata": {
      "needs_background": "light"
     },
     "output_type": "display_data"
    }
   ],
   "source": [
    "# Confusion Matrix\n",
    "plt.clf()\n",
    "plt.figure(figsize = (10,7))\n",
    "plot_confusion_matrix(np.array(yTest)[:,0], np.array(xTestPredict)[:,0]>0.5)\n",
    "plt.savefig(\"ConfusionMatrix.pdf\")\n",
    "print(\"Confusion Matrix printed!!!\")"
   ]
  },
  {
   "cell_type": "code",
   "execution_count": 25,
   "metadata": {},
   "outputs": [],
   "source": [
    "# For plots based on discriminator cut\n",
    "\n",
    "sigProb = np.arange(0, 1, 0.01) \n",
    "xTestPredictSigProb = np.array(xTestPredict)[:,0] \n",
    "yTestClass = np.array(yTest)[:,0]\n",
    "\n",
    "tpr = [] \n",
    "fpr = []\n",
    "\n",
    "for x in sigProb: \n",
    "    xTestPredictClass = xTestPredictSigProb>x \n",
    "    tp = (xTestPredictClass&yTestClass).sum() \n",
    "    fp = (xTestPredictClass&(1-yTestClass)).sum() \n",
    "    fn = ((1-xTestPredictClass)&yTestClass).sum() \n",
    "    tn = ((1-xTestPredictClass)&(1-yTestClass)).sum()\n",
    "\n",
    "    tpr.append(tp/(tp+fn))\n",
    "    fpr.append(fp/(fp+tn))"
   ]
  },
  {
   "cell_type": "code",
   "execution_count": 26,
   "metadata": {},
   "outputs": [
    {
     "data": {
      "image/png": "[encoded data removed]",
      "text/plain": [
       "<Figure size 432x288 with 1 Axes>"
      ]
     },
     "metadata": {
      "needs_background": "light"
     },
     "output_type": "display_data"
    }
   ],
   "source": [
    "# ROC Curve\n",
    "\n",
    "plt.clf()\n",
    "plt.plot(fpr,tpr, label=\"NN\")\n",
    "plt.xlabel(\"False Positive Rate\")\n",
    "plt.ylabel(\"True Positive Rate\")\n",
    "plt.xscale('log')\n",
    "plt.legend()\n",
    "plt.savefig(\"roc.pdf\")"
   ]
  },
  {
   "cell_type": "code",
   "execution_count": 20,
   "metadata": {},
   "outputs": [
    {
     "data": {
      "image/png": "[encoded data removed]",
      "text/plain": [
       "<Figure size 432x288 with 1 Axes>"
      ]
     },
     "metadata": {
      "needs_background": "light"
     },
     "output_type": "display_data"
    },
    {
     "data": {
      "image/png": "[encoded data removed]",
      "text/plain": [
       "<Figure size 432x288 with 1 Axes>"
      ]
     },
     "metadata": {
      "needs_background": "light"
     },
     "output_type": "display_data"
    },
    {
     "data": {
      "image/png": "[encoded data removed]",
      "text/plain": [
       "<Figure size 432x288 with 1 Axes>"
      ]
     },
     "metadata": {
      "needs_background": "light"
     },
     "output_type": "display_data"
    },
    {
     "data": {
      "image/png": "[encoded data removed]",
      "text/plain": [
       "<Figure size 432x288 with 1 Axes>"
      ]
     },
     "metadata": {
      "needs_background": "light"
     },
     "output_type": "display_data"
    },
    {
     "data": {
      "image/png": "[encoded data removed]",
      "text/plain": [
       "<Figure size 432x288 with 1 Axes>"
      ]
     },
     "metadata": {
      "needs_background": "light"
     },
     "output_type": "display_data"
    },
    {
     "data": {
      "image/png": "[encoded data removed]",
      "text/plain": [
       "<Figure size 432x288 with 1 Axes>"
      ]
     },
     "metadata": {
      "needs_background": "light"
     },
     "output_type": "display_data"
    },
    {
     "data": {
      "image/png": "[encoded data removed]",
      "text/plain": [
       "<Figure size 432x288 with 1 Axes>"
      ]
     },
     "metadata": {
      "needs_background": "light"
     },
     "output_type": "display_data"
    },
    {
     "data": {
      "image/png": "[encoded data removed]",
      "text/plain": [
       "<Figure size 432x288 with 1 Axes>"
      ]
     },
     "metadata": {
      "needs_background": "light"
     },
     "output_type": "display_data"
    },
    {
     "data": {
      "image/png": "[encoded data removed]",
      "text/plain": [
       "<Figure size 432x288 with 1 Axes>"
      ]
     },
     "metadata": {
      "needs_background": "light"
     },
     "output_type": "display_data"
    }
   ],
   "source": [
    "# Plots for scaled input variables above\n",
    "\n",
    "for varCtr in np.arange(sigTest.shape[1]):\n",
    "    plt.clf()\n",
    "    plt.yscale('log')\n",
    "    plt.hist(np.transpose(sigTest)[varCtr], bins=20, range=(-5.3,5.3), density=True, color=None, histtype='step', label='sigTest')\n",
    "    plt.hist(np.transpose(bkgTest)[varCtr], bins=20, range=(-5.3,5.3), density=True, color=None, histtype='step', label='bkgTest')\n",
    "    plt.show()\n"
   ]
  },
  {
   "cell_type": "code",
   "execution_count": null,
   "metadata": {},
   "outputs": [],
   "source": []
  }
 ],
 "metadata": {
  "kernelspec": {
   "display_name": "Python 3",
   "language": "python",
   "name": "python3"
  },
  "language_info": {
   "codemirror_mode": {
    "name": "ipython",
    "version": 3
   },
   "file_extension": ".py",
   "mimetype": "text/x-python",
   "name": "python",
   "nbconvert_exporter": "python",
   "pygments_lexer": "ipython3",
   "version": "3.6.9"
  }
 },
 "nbformat": 4,
 "nbformat_minor": 4
}
