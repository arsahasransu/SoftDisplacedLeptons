{
 "cells": [
  {
   "cell_type": "code",
   "execution_count": 1,
   "metadata": {},
   "outputs": [
    {
     "name": "stdout",
     "output_type": "stream",
     "text": [
      "Welcome to JupyROOT 6.18/04\n",
      "All classes initialized successfully!!!\n"
     ]
    }
   ],
   "source": [
    "import tensorflow as tf\n",
    "from tensorflow.python.keras import models as m\n",
    "from tensorflow.python.keras import layers as l\n",
    "\n",
    "import numpy as np\n",
    "import matplotlib.pyplot as plt\n",
    "from sklearn.preprocessing import StandardScaler\n",
    "import joblib\n",
    "from sklearn.metrics import confusion_matrix, fbeta_score\n",
    "from scikitplot.metrics import plot_roc, plot_confusion_matrix\n",
    "\n",
    "import seaborn as sn\n",
    "import pandas as pd\n",
    "\n",
    "from ROOT import TFile, TTree, TChain\n",
    "\n",
    "print(\"All classes initialized successfully!!!\")"
   ]
  },
  {
   "cell_type": "code",
   "execution_count": 2,
   "metadata": {},
   "outputs": [
    {
     "name": "stdout",
     "output_type": "stream",
     "text": [
      "Data read from the trees. Printing out the contents.\n"
     ]
    }
   ],
   "source": [
    "sigChan = TChain(\"varTree\")\n",
    "sigChan.Add(\"signal.root\")\n",
    "bkgChan = TChain(\"varTree\")\n",
    "bkgChan.Add(\"background.root\")\n",
    "print(\"Data read from the trees. Printing out the contents.\")"
   ]
  },
  {
   "cell_type": "code",
   "execution_count": 3,
   "metadata": {},
   "outputs": [
    {
     "name": "stdout",
     "output_type": "stream",
     "text": [
      "******************************************************************************\n",
      "*Chain   :varTree   : signal.root                                            *\n",
      "******************************************************************************\n",
      "******************************************************************************\n",
      "*Tree    :varTree   : Input Variables List for Algorithms                    *\n",
      "*Entries :    44440 : Total =         3213746 bytes  File  Size =    2732257 *\n",
      "*        :          : Tree compression factor =   1.17                       *\n",
      "******************************************************************************\n",
      "*Br    0 :HtJet     : HtJet/D                                                *\n",
      "*Entries :    44440 : Total  Size=     356973 bytes  File Size  =      24645 *\n",
      "*Baskets :       12 : Basket Size=      32000 bytes  Compression=  14.46     *\n",
      "*............................................................................*\n",
      "*Br    1 :dRLL      : dRLL/D                                                 *\n",
      "*Entries :    44440 : Total  Size=     356957 bytes  File Size  =     333416 *\n",
      "*Baskets :       12 : Basket Size=      32000 bytes  Compression=   1.07     *\n",
      "*............................................................................*\n",
      "*Br    2 :dPhiLepMETSelObj : dPhiLepMETSelObj/D                              *\n",
      "*Entries :    44440 : Total  Size=     357149 bytes  File Size  =     338144 *\n",
      "*Baskets :       12 : Basket Size=      32000 bytes  Compression=   1.05     *\n",
      "*............................................................................*\n",
      "*Br    3 :YDelpObj  : YDelpObj/D                                             *\n",
      "*Entries :    44440 : Total  Size=     357021 bytes  File Size  =     341350 *\n",
      "*Baskets :       12 : Basket Size=      32000 bytes  Compression=   1.04     *\n",
      "*............................................................................*\n",
      "*Br    4 :YUserObj  : YUserObj/D                                             *\n",
      "*Entries :    44440 : Total  Size=     357021 bytes  File Size  =     342208 *\n",
      "*Baskets :       12 : Basket Size=      32000 bytes  Compression=   1.04     *\n",
      "*............................................................................*\n",
      "*Br    5 :alphaT    : alphaT/D                                               *\n",
      "*Entries :    44440 : Total  Size=     356989 bytes  File Size  =     334194 *\n",
      "*Baskets :       12 : Basket Size=      32000 bytes  Compression=   1.07     *\n",
      "*............................................................................*\n",
      "*Br    6 :Sphericity : Sphericity/D                                          *\n",
      "*Entries :    44440 : Total  Size=     357053 bytes  File Size  =     338633 *\n",
      "*Baskets :       12 : Basket Size=      32000 bytes  Compression=   1.05     *\n",
      "*............................................................................*\n",
      "*Br    7 :Spherocity : Spherocity/D                                          *\n",
      "*Entries :    44440 : Total  Size=     357053 bytes  File Size  =     339191 *\n",
      "*Baskets :       12 : Basket Size=      32000 bytes  Compression=   1.05     *\n",
      "*............................................................................*\n",
      "*Br    8 :MtLeadLepMET : MtLeadLepMET/D                                      *\n",
      "*Entries :    44440 : Total  Size=     357085 bytes  File Size  =     338631 *\n",
      "*Baskets :       12 : Basket Size=      32000 bytes  Compression=   1.05     *\n",
      "*............................................................................*\n",
      "******************************************************************************\n",
      "*Chain   :varTree   : background.root                                        *\n",
      "******************************************************************************\n",
      "******************************************************************************\n",
      "*Tree    :varTree   : Input Variables List for Algorithms                    *\n",
      "*Entries :     4108 : Total =          302212 bytes  File  Size =     255633 *\n",
      "*        :          : Tree compression factor =   1.17                       *\n",
      "******************************************************************************\n",
      "*Br    0 :HtJet     : HtJet/D                                                *\n",
      "*Entries :     4108 : Total  Size=      33507 bytes  File Size  =       2197 *\n",
      "*Baskets :        2 : Basket Size=      32000 bytes  Compression=  15.03     *\n",
      "*............................................................................*\n",
      "*Br    1 :dRLL      : dRLL/D                                                 *\n",
      "*Entries :     4108 : Total  Size=      33501 bytes  File Size  =      31470 *\n",
      "*Baskets :        2 : Basket Size=      32000 bytes  Compression=   1.05     *\n",
      "*............................................................................*\n",
      "*Br    2 :dPhiLepMETSelObj : dPhiLepMETSelObj/D                              *\n",
      "*Entries :     4108 : Total  Size=      33573 bytes  File Size  =      31386 *\n",
      "*Baskets :        2 : Basket Size=      32000 bytes  Compression=   1.05     *\n",
      "*............................................................................*\n",
      "*Br    3 :YDelpObj  : YDelpObj/D                                             *\n",
      "*Entries :     4108 : Total  Size=      33525 bytes  File Size  =      31701 *\n",
      "*Baskets :        2 : Basket Size=      32000 bytes  Compression=   1.04     *\n",
      "*............................................................................*\n",
      "*Br    4 :YUserObj  : YUserObj/D                                             *\n",
      "*Entries :     4108 : Total  Size=      33525 bytes  File Size  =      31759 *\n",
      "*Baskets :        2 : Basket Size=      32000 bytes  Compression=   1.04     *\n",
      "*............................................................................*\n",
      "*Br    5 :alphaT    : alphaT/D                                               *\n",
      "*Entries :     4108 : Total  Size=      33513 bytes  File Size  =      31483 *\n",
      "*Baskets :        2 : Basket Size=      32000 bytes  Compression=   1.05     *\n",
      "*............................................................................*\n",
      "*Br    6 :Sphericity : Sphericity/D                                          *\n",
      "*Entries :     4108 : Total  Size=      33537 bytes  File Size  =      31444 *\n",
      "*Baskets :        2 : Basket Size=      32000 bytes  Compression=   1.05     *\n",
      "*............................................................................*\n",
      "*Br    7 :Spherocity : Spherocity/D                                          *\n",
      "*Entries :     4108 : Total  Size=      33537 bytes  File Size  =      31537 *\n",
      "*Baskets :        2 : Basket Size=      32000 bytes  Compression=   1.05     *\n",
      "*............................................................................*\n",
      "*Br    8 :MtLeadLepMET : MtLeadLepMET/D                                      *\n",
      "*Entries :     4108 : Total  Size=      33549 bytes  File Size  =      31512 *\n",
      "*Baskets :        2 : Basket Size=      32000 bytes  Compression=   1.05     *\n",
      "*............................................................................*\n"
     ]
    }
   ],
   "source": [
    "sigChan.Print()\n",
    "bkgChan.Print()"
   ]
  },
  {
   "cell_type": "code",
   "execution_count": 4,
   "metadata": {},
   "outputs": [
    {
     "name": "stdout",
     "output_type": "stream",
     "text": [
      "(35552, 9)\n",
      "(3286, 9)\n",
      "(8888, 9)\n",
      "(822, 9)\n"
     ]
    }
   ],
   "source": [
    "# Read input data from root files\n",
    "sigSampleSize = sigChan.GetEntries()\n",
    "bkgSampleSize = bkgChan.GetEntries()\n",
    "\n",
    "# Convert the input data to matrices\n",
    "sigFull = sigChan.AsMatrix()\n",
    "bkgFull = bkgChan.AsMatrix()\n",
    "\n",
    "# Choose 20% of the data for testing and 80% of the data for training\n",
    "sigTrain = sigFull[0:int(0.8*sigFull.shape[0])][:]\n",
    "bkgTrain = bkgFull[0:int(0.8*bkgFull.shape[0])][:]\n",
    "sigTest = sigFull[int(0.8*sigFull.shape[0]):][:]\n",
    "bkgTest = bkgFull[int(0.8*bkgFull.shape[0]):][:]\n",
    "print(sigTrain.shape)\n",
    "print(bkgTrain.shape)\n",
    "print(sigTest.shape)\n",
    "print(bkgTest.shape)"
   ]
  },
  {
   "cell_type": "code",
   "execution_count": 5,
   "metadata": {},
   "outputs": [
    {
     "name": "stdout",
     "output_type": "stream",
     "text": [
      "Model: \"sequential\"\n",
      "_________________________________________________________________\n",
      "Layer (type)                 Output Shape              Param #   \n",
      "=================================================================\n",
      "dense (Dense)                (None, 18)                180       \n",
      "_________________________________________________________________\n",
      "dropout (Dropout)            (None, 18)                0         \n",
      "_________________________________________________________________\n",
      "dense_1 (Dense)              (None, 18)                342       \n",
      "_________________________________________________________________\n",
      "dropout_1 (Dropout)          (None, 18)                0         \n",
      "_________________________________________________________________\n",
      "dense_2 (Dense)              (None, 2)                 38        \n",
      "=================================================================\n",
      "Total params: 560\n",
      "Trainable params: 560\n",
      "Non-trainable params: 0\n",
      "_________________________________________________________________\n"
     ]
    },
    {
     "name": "stderr",
     "output_type": "stream",
     "text": [
      "2020-03-02 11:56:06.063046: I tensorflow/core/platform/cpu_feature_guard.cc:143] Your CPU supports instructions that this TensorFlow binary was not compiled to use: SSE3 SSE4.1 SSE4.2 AVX AVX2 FMA\n"
     ]
    }
   ],
   "source": [
    "# Load the input data scaler\n",
    "scaler = joblib.load(\"../scaler.save\")\n",
    "\n",
    "# Load the model\n",
    "loaded_model = m.load_model(\"../simplePer.h5\")\n",
    "loaded_model.summary()"
   ]
  },
  {
   "cell_type": "code",
   "execution_count": 6,
   "metadata": {},
   "outputs": [
    {
     "name": "stdout",
     "output_type": "stream",
     "text": [
      "(38838, 9)\n",
      "(9710, 9)\n",
      "(38838, 2)\n",
      "(9710, 2)\n"
     ]
    }
   ],
   "source": [
    "xTrain = np.concatenate((sigTrain,bkgTrain))\n",
    "xTest = np.concatenate((sigTest,bkgTest))\n",
    "yTrain = np.matrix([[1,0]]*sigTrain.shape[0]+[[0,1]]*bkgTrain.shape[0])\n",
    "yTest = np.matrix([[1,0]]*sigTest.shape[0]+[[0,1]]*bkgTest.shape[0])\n",
    "\n",
    "print(xTrain.shape)\n",
    "print(xTest.shape)\n",
    "print(yTrain.shape)\n",
    "print(yTest.shape)"
   ]
  },
  {
   "cell_type": "code",
   "execution_count": 7,
   "metadata": {},
   "outputs": [],
   "source": [
    "# Randomize the training and testing samples\n",
    "arr = np.arange(xTrain.shape[0])\n",
    "np.random.shuffle(arr)\n",
    "xTrain = xTrain[arr,:]\n",
    "yTrain = yTrain[arr,:]\n",
    "\n",
    "arr = np.arange(xTest.shape[0])\n",
    "np.random.shuffle(arr)\n",
    "xTest = xTest[arr,:]\n",
    "yTest = yTest[arr,:]"
   ]
  },
  {
   "cell_type": "code",
   "execution_count": 8,
   "metadata": {},
   "outputs": [],
   "source": [
    "# Predict on the samples\n",
    "sigTrainScaled = scaler.transform(sigTrain)\n",
    "bkgTrainScaled = scaler.transform(bkgTrain)\n",
    "sigTestScaled = scaler.transform(sigTest)\n",
    "bkgTestScaled = scaler.transform(bkgTest)\n",
    "xTestScaled = scaler.transform(xTest)\n",
    "sigTrainPredict = loaded_model.predict(sigTrainScaled)\n",
    "bkgTrainPredict = loaded_model.predict(bkgTrainScaled)\n",
    "sigTestPredict = loaded_model.predict(sigTestScaled)\n",
    "bkgTestPredict = loaded_model.predict(bkgTestScaled)\n",
    "xTestPredict = loaded_model.predict(xTestScaled)"
   ]
  },
  {
   "cell_type": "code",
   "execution_count": 9,
   "metadata": {},
   "outputs": [
    {
     "name": "stdout",
     "output_type": "stream",
     "text": [
      "[[0.81931347 0.18068655]\n",
      " [0.31268522 0.68731475]\n",
      " [0.9964335  0.00356646]\n",
      " [0.48883417 0.5111658 ]\n",
      " [0.9841636  0.01583642]]\n"
     ]
    }
   ],
   "source": [
    "print(sigTrainPredict[0:5])"
   ]
  },
  {
   "cell_type": "code",
   "execution_count": 10,
   "metadata": {},
   "outputs": [
    {
     "name": "stdout",
     "output_type": "stream",
     "text": [
      "[0.81931347 0.31268522 0.9964335  0.48883417 0.9841636 ]\n"
     ]
    }
   ],
   "source": [
    "print(np.array(sigTrainPredict)[0:5,0])"
   ]
  },
  {
   "cell_type": "code",
   "execution_count": 11,
   "metadata": {
    "scrolled": true
   },
   "outputs": [
    {
     "name": "stdout",
     "output_type": "stream",
     "text": [
      "Discriminator plotted!!!\n"
     ]
    },
    {
     "data": {
      "image/png": "[encoded data removed]",
      "text/plain": [
       "<Figure size 432x288 with 1 Axes>"
      ]
     },
     "metadata": {
      "needs_background": "light"
     },
     "output_type": "display_data"
    }
   ],
   "source": [
    "# Discriminator shape\n",
    "plt.clf()\n",
    "plt.yscale('log')\n",
    "plt.hist(np.array(sigTrainPredict)[:,0], bins=20, range=(0,1), density=True, color=None, histtype='step', label='sigTrain')\n",
    "plt.hist(np.array(bkgTrainPredict)[:,0], bins=20, range=(0,1), density=True, color=None, histtype='step', label='bkgTrain')\n",
    "plt.hist(np.array(sigTestPredict)[:,0], bins=20, range=(0,1), density=True, color=None, histtype='step', label='sigTest')\n",
    "plt.hist(np.array(bkgTestPredict)[:,0], bins=20, range=(0,1), density=True, color=None, histtype='step', label='bkgTest')\n",
    "plt.xlabel(\"Sig_Prob\")\n",
    "plt.ylabel(\"#Events (Area scaled to 1)\")\n",
    "plt.legend()\n",
    "plt.savefig(\"Discriminator.pdf\")\n",
    "print(\"Discriminator plotted!!!\")"
   ]
  },
  {
   "cell_type": "code",
   "execution_count": 12,
   "metadata": {},
   "outputs": [
    {
     "name": "stdout",
     "output_type": "stream",
     "text": [
      "Confusion Matrix printed!!!\n"
     ]
    },
    {
     "data": {
      "text/plain": [
       "<Figure size 432x288 with 0 Axes>"
      ]
     },
     "metadata": {},
     "output_type": "display_data"
    },
    {
     "data": {
      "text/plain": [
       "<Figure size 720x504 with 0 Axes>"
      ]
     },
     "metadata": {},
     "output_type": "display_data"
    },
    {
     "data": {
      "image/png": "[encoded data removed]",
      "text/plain": [
       "<Figure size 432x288 with 2 Axes>"
      ]
     },
     "metadata": {
      "needs_background": "light"
     },
     "output_type": "display_data"
    }
   ],
   "source": [
    "# Confusion Matrix\n",
    "plt.clf()\n",
    "plt.figure(figsize = (10,7))\n",
    "plot_confusion_matrix(np.array(yTest)[:,0], np.array(xTestPredict)[:,0]>0.5)\n",
    "plt.savefig(\"ConfusionMatrix.pdf\")\n",
    "print(\"Confusion Matrix printed!!!\")"
   ]
  },
  {
   "cell_type": "code",
   "execution_count": 15,
   "metadata": {},
   "outputs": [],
   "source": [
    "# For plots based on discriminator cut\n",
    "\n",
    "sigProb = np.arange(0, 1, 0.01) \n",
    "xTestPredictSigProb = np.array(xTestPredict)[:,0] \n",
    "yTestClass = np.array(yTest)[:,0]\n",
    "\n",
    "tpr = [] \n",
    "fpr = []\n",
    "\n",
    "for x in sigProb: \n",
    "    xTestPredictClass = xTestPredictSigProb>x \n",
    "    tp = (xTestPredictClass&yTestClass).sum() \n",
    "    fp = (xTestPredictClass&(1-yTestClass)).sum() \n",
    "    fn = ((1-xTestPredictClass)&yTestClass).sum() \n",
    "    tn = ((1-xTestPredictClass)&(1-yTestClass)).sum()\n",
    "\n",
    "    tpr.append(tp/(tp+fn))\n",
    "    fpr.append(fp/(fp+tn))"
   ]
  },
  {
   "cell_type": "code",
   "execution_count": 16,
   "metadata": {},
   "outputs": [
    {
     "data": {
      "image/png": "[encoded data removed]",
      "text/plain": [
       "<Figure size 432x288 with 1 Axes>"
      ]
     },
     "metadata": {
      "needs_background": "light"
     },
     "output_type": "display_data"
    }
   ],
   "source": [
    "# ROC Curve\n",
    "\n",
    "plt.clf()\n",
    "plt.plot(fpr,tpr, label=\"NN\")\n",
    "plt.xlabel(\"False Positive Rate\")\n",
    "plt.ylabel(\"True Positive Rate\")\n",
    "plt.legend()\n",
    "plt.savefig(\"roc.pdf\")"
   ]
  },
  {
   "cell_type": "code",
   "execution_count": 17,
   "metadata": {},
   "outputs": [
    {
     "data": {
      "image/png": "[encoded data removed]",
      "text/plain": [
       "<Figure size 432x288 with 1 Axes>"
      ]
     },
     "metadata": {
      "needs_background": "light"
     },
     "output_type": "display_data"
    },
    {
     "data": {
      "image/png": "[encoded data removed]",
      "text/plain": [
       "<Figure size 432x288 with 1 Axes>"
      ]
     },
     "metadata": {
      "needs_background": "light"
     },
     "output_type": "display_data"
    },
    {
     "data": {
      "image/png": "[encoded data removed]",
      "text/plain": [
       "<Figure size 432x288 with 1 Axes>"
      ]
     },
     "metadata": {
      "needs_background": "light"
     },
     "output_type": "display_data"
    },
    {
     "data": {
      "image/png": "[encoded data removed]",
      "text/plain": [
       "<Figure size 432x288 with 1 Axes>"
      ]
     },
     "metadata": {
      "needs_background": "light"
     },
     "output_type": "display_data"
    },
    {
     "data": {
      "image/png": "[encoded data removed]",
      "text/plain": [
       "<Figure size 432x288 with 1 Axes>"
      ]
     },
     "metadata": {
      "needs_background": "light"
     },
     "output_type": "display_data"
    },
    {
     "data": {
      "image/png": "[encoded data removed]",
      "text/plain": [
       "<Figure size 432x288 with 1 Axes>"
      ]
     },
     "metadata": {
      "needs_background": "light"
     },
     "output_type": "display_data"
    },
    {
     "data": {
      "image/png": "[encoded data removed]",
      "text/plain": [
       "<Figure size 432x288 with 1 Axes>"
      ]
     },
     "metadata": {
      "needs_background": "light"
     },
     "output_type": "display_data"
    },
    {
     "data": {
      "image/png": "[encoded data removed]",
      "text/plain": [
       "<Figure size 432x288 with 1 Axes>"
      ]
     },
     "metadata": {
      "needs_background": "light"
     },
     "output_type": "display_data"
    },
    {
     "data": {
      "image/png": "[encoded data removed]",
      "text/plain": [
       "<Figure size 432x288 with 1 Axes>"
      ]
     },
     "metadata": {
      "needs_background": "light"
     },
     "output_type": "display_data"
    }
   ],
   "source": [
    "# Plots for scaled input variables above\n",
    "\n",
    "for varCtr in np.arange(sigTest.shape[1]):\n",
    "    plt.clf()\n",
    "    plt.yscale('log')\n",
    "    plt.hist(np.transpose(sigTest)[varCtr], bins=20, range=(-5.3,5.3), density=True, color=None, histtype='step', label='sigTest')\n",
    "    plt.hist(np.transpose(bkgTest)[varCtr], bins=20, range=(-5.3,5.3), density=True, color=None, histtype='step', label='bkgTest')\n",
    "    plt.show()\n"
   ]
  },
  {
   "cell_type": "code",
   "execution_count": null,
   "metadata": {},
   "outputs": [],
   "source": []
  }
 ],
 "metadata": {
  "kernelspec": {
   "display_name": "Python 3",
   "language": "python",
   "name": "python3"
  },
  "language_info": {
   "codemirror_mode": {
    "name": "ipython",
    "version": 3
   },
   "file_extension": ".py",
   "mimetype": "text/x-python",
   "name": "python",
   "nbconvert_exporter": "python",
   "pygments_lexer": "ipython3",
   "version": "3.6.9"
  }
 },
 "nbformat": 4,
 "nbformat_minor": 4
}
