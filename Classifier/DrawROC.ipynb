{
 "cells": [
  {
   "cell_type": "code",
   "execution_count": 4,
   "metadata": {},
   "outputs": [],
   "source": [
    "import ROOT as rt\n",
    "import numpy as np\n",
    "import matplotlib.pyplot as plt"
   ]
  },
  {
   "cell_type": "code",
   "execution_count": 1,
   "metadata": {},
   "outputs": [],
   "source": [
    "# From histogram as lists\n",
    "\n",
    "def from_discList(discSig=[], discBkg=[], name=\"\"):\n",
    "    \n",
    "    sigEff = []\n",
    "    bkgEff = []\n",
    "    \n",
    "    maxVal = max(discSig) if(max(discSig)>max(discBkg)) else max(discBkg)\n",
    "    minVal = min(discSig) if(min(discSig)<min(discBkg)) else min(discBkg)\n",
    "    \n",
    "    discStep = np.arange(minVal, maxVal, (maxVal-minVal)*1.0/1000.0)\n",
    "    \n",
    "    for discCut in discStep:\n",
    "        \n",
    "        tp = (discSig>discCut).sum()*1.0\n",
    "        fp = (discBkg>discCut).sum()*1.0\n",
    "        tn = (discBkg<discCut).sum()*1.0\n",
    "        fn = (discSig<discCut).sum()*1.0\n",
    "        \n",
    "        sigEff.append(tp/(tp+fn))\n",
    "        bkgEff.append(fp/(fp+tn))\n",
    "        \n",
    "    roc = plt.plot(bkgEff,sigEff,label=\"roc_\"+name)\n",
    "    \n",
    "    return roc"
   ]
  },
  {
   "cell_type": "code",
   "execution_count": null,
   "metadata": {},
   "outputs": [],
   "source": [
    "# Overload for numpy arrays\n",
    "\n"
   ]
  }
 ],
 "metadata": {
  "kernelspec": {
   "display_name": "Python 3",
   "language": "python",
   "name": "python3"
  },
  "language_info": {
   "codemirror_mode": {
    "name": "ipython",
    "version": 3
   },
   "file_extension": ".py",
   "mimetype": "text/x-python",
   "name": "python",
   "nbconvert_exporter": "python",
   "pygments_lexer": "ipython3",
   "version": "3.6.9"
  }
 },
 "nbformat": 4,
 "nbformat_minor": 4
}
