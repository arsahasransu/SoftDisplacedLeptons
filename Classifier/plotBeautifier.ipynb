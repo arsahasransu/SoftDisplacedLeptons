{
 "cells": [
  {
   "cell_type": "code",
   "execution_count": 2,
   "metadata": {},
   "outputs": [
    {
     "name": "stdout",
     "output_type": "stream",
     "text": [
      "Welcome to JupyROOT 6.18/04\n"
     ]
    }
   ],
   "source": [
    "import ROOT as rt"
   ]
  },
  {
   "cell_type": "code",
   "execution_count": 3,
   "metadata": {},
   "outputs": [],
   "source": [
    "def plotBeautifier(histList, \n",
    "                   labelList, \n",
    "                   xAxisTitle, \n",
    "                   yAxisTitle, \n",
    "                   outPlotName):\n",
    "    \n",
    "    # Create a canvas \n",
    "    c1 = rt.TCanvas(\"c1\", \"c1\", 10, 32, 782, 552)\n",
    "    print(\"Created a canvas\")\n",
    "    \n",
    "    # Add cosmetics, underflow bin and overflow bin\n",
    "    ctr=0;\n",
    "    for hist in histList:\n",
    "        hist.SetLineColor(ctr+1)\n",
    "        ctr = ctr+1\n",
    "        hist.SetLineWidth(3)\n",
    "        hist.GetXaxis().SetRange(0, hist.GetNbinsX()+1)\n",
    "        print(ctr)\n",
    "        \n",
    "    histList[0].GetXaxis().SetTitle(xAxisTitle)\n",
    "    histList[0].GetYaxis().SetTitle(yAxisTitle)\n",
    "    \n",
    "    c1.SetLogy()\n",
    "    rt.gStyle.SetOptStat(0)\n",
    "    \n",
    "    for hist in histList:\n",
    "        hist.DrawNormalized(\"hist SAME E\")\n",
    "        \n",
    "    legc1 = rt.TLegend(0.5, 0.9, 0.89, 1.0, \"\", \"brNDC\")\n",
    "    ctr=0\n",
    "    for hist in histList:\n",
    "        legc1.AddEntry(hist, labelList[ctr], \"l\")\n",
    "        ctr = ctr+1\n",
    "    legc1.SetTextSize(0.03)\n",
    "    legc1.SetBorderSize(0)\n",
    "    legc1.Draw()\n",
    "    \n",
    "    nx = histList[0].GetNbinsX()+1\n",
    "    bw1 = histList[0].GetBinWidth(0)\n",
    "    bw2 = histList[0].GetBinWidth(nx)\n",
    "    x1 = histList[0].GetBinLowEdge(0)+bw1\n",
    "    x2 = histList[0].GetBinLowEdge(nx)+bw2\n",
    "    y1 = histList[0].GetBinContent(0)/histList[0].Integral()\n",
    "    y2 = histList[0].GetBinContent(nx)/histList[0].Integral()\n",
    "    for hist in histList:\n",
    "        y1 = y1 if y1>(hist.GetBinContent(0)/hist.Integral()) else hist.GetBinContent(0)/hist.Integral()\n",
    "        \n",
    "        y2 = y2 if y2>(hist.GetBinContent(nx)/hist.Integral()) else hist.GetBinContent(nx)/hist.Integral()\n",
    "        \n",
    "    y1 = y1*1.1\n",
    "    y2 = y2*1.1\n",
    "    \n",
    "    tUFlw = rt.TText(x1-0.5*bw1, y1, \"Underflow\")\n",
    "    tUFlw.SetTextAngle(90)\n",
    "    tUFlw.SetTextAlign(12)\n",
    "    tUFlw.SetTextSize(0.03)\n",
    "    tUFlw.Draw()\n",
    "    \n",
    "    tOFlw = rt.TText(x2-0.5*bw2, y2, \"Overflow\")\n",
    "    tOFlw.SetTextAngle(90)\n",
    "    tOFlw.SetTextAlign(12)\n",
    "    tOFlw.SetTextSize(0.03)\n",
    "    tOFlw.Draw()\n",
    "    \n",
    "    c1.SaveAs(outPlotName+\".pdf\")\n",
    "    \n",
    "    return"
   ]
  },
  {
   "cell_type": "code",
   "execution_count": 4,
   "metadata": {},
   "outputs": [],
   "source": [
    "def trial_func(name):\n",
    "    \n",
    "    print(\"Trial works fine. Hello,\"+name)"
   ]
  },
  {
   "cell_type": "code",
   "execution_count": null,
   "metadata": {},
   "outputs": [],
   "source": []
  }
 ],
 "metadata": {
  "kernelspec": {
   "display_name": "Python 3",
   "language": "python",
   "name": "python3"
  },
  "language_info": {
   "codemirror_mode": {
    "name": "ipython",
    "version": 3
   },
   "file_extension": ".py",
   "mimetype": "text/x-python",
   "name": "python",
   "nbconvert_exporter": "python",
   "pygments_lexer": "ipython3",
   "version": "3.6.9"
  }
 },
 "nbformat": 4,
 "nbformat_minor": 4
}
