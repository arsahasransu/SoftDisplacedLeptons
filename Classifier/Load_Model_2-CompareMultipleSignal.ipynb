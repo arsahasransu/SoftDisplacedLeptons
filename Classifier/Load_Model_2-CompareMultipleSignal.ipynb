{
 "cells": [
  {
   "cell_type": "code",
   "execution_count": 1,
   "metadata": {},
   "outputs": [
    {
     "name": "stdout",
     "output_type": "stream",
     "text": [
      "Welcome to JupyROOT 6.18/04\n",
      "All classes initialized successfully!!!\n"
     ]
    }
   ],
   "source": [
    "import tensorflow as tf\n",
    "from tensorflow.python.keras import models as m\n",
    "from tensorflow.python.keras import layers as l\n",
    "\n",
    "import numpy as np\n",
    "import matplotlib.pyplot as plt\n",
    "from sklearn.preprocessing import StandardScaler\n",
    "import joblib\n",
    "from sklearn.metrics import confusion_matrix, fbeta_score\n",
    "from scikitplot.metrics import plot_roc, plot_confusion_matrix\n",
    "\n",
    "import seaborn as sn\n",
    "import pandas as pd\n",
    "\n",
    "from ROOT import TFile, TTree, TChain\n",
    "from ROOT import TH1F, TCanvas\n",
    "\n",
    "import os\n",
    "import sys\n",
    "sys.path.insert(0, os.path.abspath('/home/arsahasransu/Documents/SoftDisplacedLeptons/Classifier/'))\n",
    "\n",
    "print(\"All classes initialized successfully!!!\")"
   ]
  },
  {
   "cell_type": "code",
   "execution_count": 2,
   "metadata": {},
   "outputs": [],
   "source": [
    "import plotBeautifier as pB"
   ]
  },
  {
   "cell_type": "code",
   "execution_count": 3,
   "metadata": {},
   "outputs": [
    {
     "name": "stdout",
     "output_type": "stream",
     "text": [
      "Trial works fine. Hello,AR\n"
     ]
    }
   ],
   "source": [
    "pB.trial_func(\"AR\")"
   ]
  },
  {
   "cell_type": "code",
   "execution_count": 4,
   "metadata": {},
   "outputs": [
    {
     "name": "stdout",
     "output_type": "stream",
     "text": [
      "Data read from the trees. Printing out the contents.\n"
     ]
    }
   ],
   "source": [
    "sigChan = TChain(\"varTree\")\n",
    "sigChan.Add(\"../signal_BP_200_220_2cm_DNN.root\")\n",
    "sigChan2 = TChain(\"varTree\")\n",
    "sigChan2.Add(\"../signal_BP_180_220_2cm_DNN.root\")\n",
    "sigChanTrain = TChain(\"varTree\")\n",
    "sigChanTrain.Add(\"../signal_train.root\")\n",
    "bkgChan = TChain(\"varTree\")\n",
    "bkgChan.Add(\"../background_DNN.root\")\n",
    "print(\"Data read from the trees. Printing out the contents.\")"
   ]
  },
  {
   "cell_type": "code",
   "execution_count": 5,
   "metadata": {},
   "outputs": [
    {
     "name": "stdout",
     "output_type": "stream",
     "text": [
      "******************************************************************************\n",
      "*Chain   :varTree   : ../signal_BP_200_220_2cm_DNN.root                      *\n",
      "******************************************************************************\n",
      "******************************************************************************\n",
      "*Tree    :varTree   : Input Variables List for Algorithms                    *\n",
      "*Entries :    19758 : Total =         1431139 bytes  File  Size =    1214718 *\n",
      "*        :          : Tree compression factor =   1.18                       *\n",
      "******************************************************************************\n",
      "*Br    0 :HtJet     : HtJet/D                                                *\n",
      "*Entries :    19758 : Total  Size=     158932 bytes  File Size  =      10397 *\n",
      "*Baskets :        5 : Basket Size=      32000 bytes  Compression=  15.24     *\n",
      "*............................................................................*\n",
      "*Br    1 :dRLL      : dRLL/D                                                 *\n",
      "*Entries :    19758 : Total  Size=     158923 bytes  File Size  =     148328 *\n",
      "*Baskets :        5 : Basket Size=      32000 bytes  Compression=   1.07     *\n",
      "*............................................................................*\n",
      "*Br    2 :dPhiLepMETSelObj : dPhiLepMETSelObj/D                              *\n",
      "*Entries :    19758 : Total  Size=     159031 bytes  File Size  =     150290 *\n",
      "*Baskets :        5 : Basket Size=      32000 bytes  Compression=   1.05     *\n",
      "*............................................................................*\n",
      "*Br    3 :YDelpObj  : YDelpObj/D                                             *\n",
      "*Entries :    19758 : Total  Size=     158959 bytes  File Size  =     151773 *\n",
      "*Baskets :        5 : Basket Size=      32000 bytes  Compression=   1.04     *\n",
      "*............................................................................*\n",
      "*Br    4 :YUserObj  : YUserObj/D                                             *\n",
      "*Entries :    19758 : Total  Size=     158959 bytes  File Size  =     152084 *\n",
      "*Baskets :        5 : Basket Size=      32000 bytes  Compression=   1.04     *\n",
      "*............................................................................*\n",
      "*Br    5 :alphaT    : alphaT/D                                               *\n",
      "*Entries :    19758 : Total  Size=     158941 bytes  File Size  =     148651 *\n",
      "*Baskets :        5 : Basket Size=      32000 bytes  Compression=   1.07     *\n",
      "*............................................................................*\n",
      "*Br    6 :Sphericity : Sphericity/D                                          *\n",
      "*Entries :    19758 : Total  Size=     158977 bytes  File Size  =     150533 *\n",
      "*Baskets :        5 : Basket Size=      32000 bytes  Compression=   1.05     *\n",
      "*............................................................................*\n",
      "*Br    7 :Spherocity : Spherocity/D                                          *\n",
      "*Entries :    19758 : Total  Size=     158977 bytes  File Size  =     150792 *\n",
      "*Baskets :        5 : Basket Size=      32000 bytes  Compression=   1.05     *\n",
      "*............................................................................*\n",
      "*Br    8 :MtLeadLepMET : MtLeadLepMET/D                                      *\n",
      "*Entries :    19758 : Total  Size=     158995 bytes  File Size  =     150509 *\n",
      "*Baskets :        5 : Basket Size=      32000 bytes  Compression=   1.05     *\n",
      "*............................................................................*\n",
      "******************************************************************************\n",
      "*Chain   :varTree   : ../signal_BP_180_220_2cm_DNN.root                      *\n",
      "******************************************************************************\n",
      "******************************************************************************\n",
      "*Tree    :varTree   : Input Variables List for Algorithms                    *\n",
      "*Entries :   123645 : Total =         8933397 bytes  File  Size =    7608576 *\n",
      "*        :          : Tree compression factor =   1.17                       *\n",
      "******************************************************************************\n",
      "*Br    0 :HtJet     : HtJet/D                                                *\n",
      "*Entries :   123645 : Total  Size=     992418 bytes  File Size  =      65444 *\n",
      "*Baskets :       31 : Basket Size=      32000 bytes  Compression=  15.15     *\n",
      "*............................................................................*\n",
      "*Br    1 :dRLL      : dRLL/D                                                 *\n",
      "*Entries :   123645 : Total  Size=     992383 bytes  File Size  =     938669 *\n",
      "*Baskets :       31 : Basket Size=      32000 bytes  Compression=   1.06     *\n",
      "*............................................................................*\n",
      "*Br    2 :dPhiLepMETSelObj : dPhiLepMETSelObj/D                              *\n",
      "*Entries :   123645 : Total  Size=     992803 bytes  File Size  =     940002 *\n",
      "*Baskets :       31 : Basket Size=      32000 bytes  Compression=   1.06     *\n",
      "*............................................................................*\n",
      "*Br    3 :YDelpObj  : YDelpObj/D                                             *\n",
      "*Entries :   123645 : Total  Size=     992523 bytes  File Size  =     948540 *\n",
      "*Baskets :       31 : Basket Size=      32000 bytes  Compression=   1.05     *\n",
      "*............................................................................*\n",
      "*Br    4 :YUserObj  : YUserObj/D                                             *\n",
      "*Entries :   123645 : Total  Size=     992523 bytes  File Size  =     949848 *\n",
      "*Baskets :       31 : Basket Size=      32000 bytes  Compression=   1.04     *\n",
      "*............................................................................*\n",
      "*Br    5 :alphaT    : alphaT/D                                               *\n",
      "*Entries :   123645 : Total  Size=     992453 bytes  File Size  =     936238 *\n",
      "*Baskets :       31 : Basket Size=      32000 bytes  Compression=   1.06     *\n",
      "*............................................................................*\n",
      "*Br    6 :Sphericity : Sphericity/D                                          *\n",
      "*Entries :   123645 : Total  Size=     992593 bytes  File Size  =     941997 *\n",
      "*Baskets :       31 : Basket Size=      32000 bytes  Compression=   1.05     *\n",
      "*............................................................................*\n",
      "*Br    7 :Spherocity : Spherocity/D                                          *\n",
      "*Entries :   123645 : Total  Size=     992593 bytes  File Size  =     943072 *\n",
      "*Baskets :       31 : Basket Size=      32000 bytes  Compression=   1.05     *\n",
      "*............................................................................*\n",
      "*Br    8 :MtLeadLepMET : MtLeadLepMET/D                                      *\n",
      "*Entries :   123645 : Total  Size=     992663 bytes  File Size  =     941703 *\n",
      "*Baskets :       31 : Basket Size=      32000 bytes  Compression=   1.05     *\n",
      "*............................................................................*\n",
      "******************************************************************************\n",
      "*Chain   :varTree   : ../signal_train.root                                   *\n",
      "******************************************************************************\n",
      "******************************************************************************\n",
      "*Tree    :varTree   : Input Variables List for Algorithms                    *\n",
      "*Entries :    44440 : Total =         3213746 bytes  File  Size =    2732242 *\n",
      "*        :          : Tree compression factor =   1.17                       *\n",
      "******************************************************************************\n",
      "*Br    0 :HtJet     : HtJet/D                                                *\n",
      "*Entries :    44440 : Total  Size=     356973 bytes  File Size  =      24645 *\n",
      "*Baskets :       12 : Basket Size=      32000 bytes  Compression=  14.46     *\n",
      "*............................................................................*\n",
      "*Br    1 :dRLL      : dRLL/D                                                 *\n",
      "*Entries :    44440 : Total  Size=     356957 bytes  File Size  =     333416 *\n",
      "*Baskets :       12 : Basket Size=      32000 bytes  Compression=   1.07     *\n",
      "*............................................................................*\n",
      "*Br    2 :dPhiLepMETSelObj : dPhiLepMETSelObj/D                              *\n",
      "*Entries :    44440 : Total  Size=     357149 bytes  File Size  =     338144 *\n",
      "*Baskets :       12 : Basket Size=      32000 bytes  Compression=   1.05     *\n",
      "*............................................................................*\n",
      "*Br    3 :YDelpObj  : YDelpObj/D                                             *\n",
      "*Entries :    44440 : Total  Size=     357021 bytes  File Size  =     341350 *\n",
      "*Baskets :       12 : Basket Size=      32000 bytes  Compression=   1.04     *\n",
      "*............................................................................*\n",
      "*Br    4 :YUserObj  : YUserObj/D                                             *\n",
      "*Entries :    44440 : Total  Size=     357021 bytes  File Size  =     342208 *\n",
      "*Baskets :       12 : Basket Size=      32000 bytes  Compression=   1.04     *\n",
      "*............................................................................*\n",
      "*Br    5 :alphaT    : alphaT/D                                               *\n",
      "*Entries :    44440 : Total  Size=     356989 bytes  File Size  =     334194 *\n",
      "*Baskets :       12 : Basket Size=      32000 bytes  Compression=   1.07     *\n",
      "*............................................................................*\n",
      "*Br    6 :Sphericity : Sphericity/D                                          *\n",
      "*Entries :    44440 : Total  Size=     357053 bytes  File Size  =     338633 *\n",
      "*Baskets :       12 : Basket Size=      32000 bytes  Compression=   1.05     *\n",
      "*............................................................................*\n",
      "*Br    7 :Spherocity : Spherocity/D                                          *\n",
      "*Entries :    44440 : Total  Size=     357053 bytes  File Size  =     339191 *\n",
      "*Baskets :       12 : Basket Size=      32000 bytes  Compression=   1.05     *\n",
      "*............................................................................*\n",
      "*Br    8 :MtLeadLepMET : MtLeadLepMET/D                                      *\n",
      "*Entries :    44440 : Total  Size=     357085 bytes  File Size  =     338631 *\n",
      "*Baskets :       12 : Basket Size=      32000 bytes  Compression=   1.05     *\n",
      "*............................................................................*\n",
      "******************************************************************************\n",
      "*Chain   :varTree   : ../background_DNN.root                                 *\n",
      "******************************************************************************\n",
      "******************************************************************************\n",
      "*Tree    :varTree   : Input Variables List for Algorithms                    *\n",
      "*Entries :     4108 : Total =          302212 bytes  File  Size =     255633 *\n",
      "*        :          : Tree compression factor =   1.17                       *\n",
      "******************************************************************************\n",
      "*Br    0 :HtJet     : HtJet/D                                                *\n",
      "*Entries :     4108 : Total  Size=      33507 bytes  File Size  =       2197 *\n",
      "*Baskets :        2 : Basket Size=      32000 bytes  Compression=  15.03     *\n",
      "*............................................................................*\n",
      "*Br    1 :dRLL      : dRLL/D                                                 *\n",
      "*Entries :     4108 : Total  Size=      33501 bytes  File Size  =      31470 *\n",
      "*Baskets :        2 : Basket Size=      32000 bytes  Compression=   1.05     *\n",
      "*............................................................................*\n",
      "*Br    2 :dPhiLepMETSelObj : dPhiLepMETSelObj/D                              *\n",
      "*Entries :     4108 : Total  Size=      33573 bytes  File Size  =      31386 *\n",
      "*Baskets :        2 : Basket Size=      32000 bytes  Compression=   1.05     *\n",
      "*............................................................................*\n",
      "*Br    3 :YDelpObj  : YDelpObj/D                                             *\n",
      "*Entries :     4108 : Total  Size=      33525 bytes  File Size  =      31701 *\n",
      "*Baskets :        2 : Basket Size=      32000 bytes  Compression=   1.04     *\n",
      "*............................................................................*\n",
      "*Br    4 :YUserObj  : YUserObj/D                                             *\n",
      "*Entries :     4108 : Total  Size=      33525 bytes  File Size  =      31759 *\n",
      "*Baskets :        2 : Basket Size=      32000 bytes  Compression=   1.04     *\n",
      "*............................................................................*\n",
      "*Br    5 :alphaT    : alphaT/D                                               *\n",
      "*Entries :     4108 : Total  Size=      33513 bytes  File Size  =      31483 *\n",
      "*Baskets :        2 : Basket Size=      32000 bytes  Compression=   1.05     *\n",
      "*............................................................................*\n",
      "*Br    6 :Sphericity : Sphericity/D                                          *\n",
      "*Entries :     4108 : Total  Size=      33537 bytes  File Size  =      31444 *\n",
      "*Baskets :        2 : Basket Size=      32000 bytes  Compression=   1.05     *\n",
      "*............................................................................*\n",
      "*Br    7 :Spherocity : Spherocity/D                                          *\n",
      "*Entries :     4108 : Total  Size=      33537 bytes  File Size  =      31537 *\n",
      "*Baskets :        2 : Basket Size=      32000 bytes  Compression=   1.05     *\n",
      "*............................................................................*\n",
      "*Br    8 :MtLeadLepMET : MtLeadLepMET/D                                      *\n",
      "*Entries :     4108 : Total  Size=      33549 bytes  File Size  =      31512 *\n",
      "*Baskets :        2 : Basket Size=      32000 bytes  Compression=   1.05     *\n",
      "*............................................................................*\n"
     ]
    }
   ],
   "source": [
    "sigChan.Print()\n",
    "sigChan2.Print()\n",
    "sigChanTrain.Print()\n",
    "bkgChan.Print()"
   ]
  },
  {
   "cell_type": "code",
   "execution_count": 6,
   "metadata": {},
   "outputs": [
    {
     "name": "stdout",
     "output_type": "stream",
     "text": [
      "(19758, 9)\n",
      "(123645, 9)\n",
      "(44440, 9)\n",
      "(4108, 9)\n"
     ]
    }
   ],
   "source": [
    "# Read input data from root files\n",
    "sigSampleSize = sigChan.GetEntries()\n",
    "sig2SampleSize = sigChan2.GetEntries()\n",
    "sigTrainSampleSize = sigChanTrain.GetEntries()\n",
    "bkgSampleSize = bkgChan.GetEntries()\n",
    "\n",
    "# Convert the input data to matrices\n",
    "sigFull = sigChan.AsMatrix()\n",
    "sigFull2 = sigChan2.AsMatrix()\n",
    "sigTrainFull = sigChanTrain.AsMatrix()\n",
    "bkgFull = bkgChan.AsMatrix()\n",
    "\n",
    "print(sigFull.shape)\n",
    "print(sigFull2.shape)\n",
    "print(sigTrainFull.shape)\n",
    "print(bkgFull.shape)"
   ]
  },
  {
   "cell_type": "code",
   "execution_count": 7,
   "metadata": {},
   "outputs": [
    {
     "name": "stdout",
     "output_type": "stream",
     "text": [
      "Model: \"sequential\"\n",
      "_________________________________________________________________\n",
      "Layer (type)                 Output Shape              Param #   \n",
      "=================================================================\n",
      "dense (Dense)                (None, 18)                180       \n",
      "_________________________________________________________________\n",
      "dropout (Dropout)            (None, 18)                0         \n",
      "_________________________________________________________________\n",
      "dense_1 (Dense)              (None, 18)                342       \n",
      "_________________________________________________________________\n",
      "dropout_1 (Dropout)          (None, 18)                0         \n",
      "_________________________________________________________________\n",
      "dense_2 (Dense)              (None, 2)                 38        \n",
      "=================================================================\n",
      "Total params: 560\n",
      "Trainable params: 560\n",
      "Non-trainable params: 0\n",
      "_________________________________________________________________\n"
     ]
    },
    {
     "name": "stderr",
     "output_type": "stream",
     "text": [
      "2020-04-28 09:42:12.222764: I tensorflow/core/platform/cpu_feature_guard.cc:143] Your CPU supports instructions that this TensorFlow binary was not compiled to use: SSE3 SSE4.1 SSE4.2 AVX AVX2 FMA\n"
     ]
    }
   ],
   "source": [
    "# Load the input data scaler\n",
    "scaler = joblib.load(\"./scaler.save\")\n",
    "\n",
    "# Load the model\n",
    "loaded_model = m.load_model(\"./simplePer.h5\")\n",
    "loaded_model.summary()"
   ]
  },
  {
   "cell_type": "code",
   "execution_count": 8,
   "metadata": {},
   "outputs": [],
   "source": [
    "# Predict on the samples\n",
    "sigScaled = scaler.transform(sigFull)\n",
    "sigScaled2 = scaler.transform(sigFull2)\n",
    "sigTrainScaled = scaler.transform(sigTrainFull)\n",
    "bkgScaled = scaler.transform(bkgFull)\n",
    "\n",
    "sigPredict = loaded_model.predict(sigScaled)\n",
    "sigPredict2 = loaded_model.predict(sigScaled2)\n",
    "sigTrainPredict = loaded_model.predict(sigTrainScaled)\n",
    "bkgPredict = loaded_model.predict(bkgScaled)"
   ]
  },
  {
   "cell_type": "code",
   "execution_count": 9,
   "metadata": {},
   "outputs": [
    {
     "name": "stdout",
     "output_type": "stream",
     "text": [
      "[[0.8068562  0.1931438 ]\n",
      " [0.30050308 0.6994969 ]\n",
      " [0.9924694  0.00753069]\n",
      " [0.3303033  0.66969675]\n",
      " [0.982544   0.01745597]]\n"
     ]
    }
   ],
   "source": [
    "print(sigTrainPredict[0:5])"
   ]
  },
  {
   "cell_type": "code",
   "execution_count": 10,
   "metadata": {},
   "outputs": [
    {
     "name": "stdout",
     "output_type": "stream",
     "text": [
      "[0.8068562  0.30050308 0.9924694  0.3303033  0.982544  ]\n"
     ]
    }
   ],
   "source": [
    "print(np.array(sigTrainPredict)[0:5,0])"
   ]
  },
  {
   "cell_type": "code",
   "execution_count": 12,
   "metadata": {
    "scrolled": true
   },
   "outputs": [
    {
     "name": "stdout",
     "output_type": "stream",
     "text": [
      "Discriminator plotted!!!\n"
     ]
    },
    {
     "data": {
      "image/png": "[encoded data removed]",
      "text/plain": [
       "<Figure size 432x288 with 1 Axes>"
      ]
     },
     "metadata": {
      "needs_background": "light"
     },
     "output_type": "display_data"
    }
   ],
   "source": [
    "# Discriminator shape\n",
    "plt.clf()\n",
    "plt.yscale('log')\n",
    "plt.hist(np.array(sigPredict)[:,0], bins=20, range=(0,1), density=True, color=None, histtype='step', label='(200,220,2cm)')\n",
    "plt.hist(np.array(sigPredict2)[:,0], bins=20, range=(0,1), density=True, color=None, histtype='step', label='(180,220,2cm)')\n",
    "plt.hist(np.array(sigTrainPredict)[:,0], bins=20, range=(0,1), density=True, color=None, histtype='step', label='304,324,2cm')\n",
    "plt.hist(np.array(bkgPredict)[:,0], bins=20, range=(0,1), density=True, color=None, histtype='step', label='HF bkg')\n",
    "plt.xlabel(\"Sig_Prob\")\n",
    "plt.ylabel(\"#Events (Area scaled to 1)\")\n",
    "plt.legend()\n",
    "plt.savefig(\"Discriminator.pdf\")\n",
    "print(\"Discriminator plotted!!!\")"
   ]
  },
  {
   "cell_type": "code",
   "execution_count": 13,
   "metadata": {},
   "outputs": [],
   "source": [
    "# Discriminator Shape in ROOT plotting\n",
    "c1 = TCanvas()\n",
    "nBins = 100\n",
    "sigTrainHisto = TH1F(\"\",\"\",nBins,0,1)\n",
    "sigHisto = TH1F(\"\",\"\",nBins,0,1)\n",
    "sig2Histo = TH1F(\"\",\"\",nBins,0,1)\n",
    "bkgHisto = TH1F(\"\",\"\",nBins,0,1)\n",
    "sigTrainHisto.FillN(sigTrainPredict.shape[0],(sigTrainPredict[:,0]).astype(float),np.ones(sigTrainPredict.shape[0]))\n",
    "sigHisto.FillN(sigPredict.shape[0],(sigPredict[:,0]).astype(float),np.ones(sigPredict.shape[0]))\n",
    "sig2Histo.FillN(sigPredict2.shape[0],(sigPredict2[:,0]).astype(float),np.ones(sigPredict2.shape[0]))\n",
    "bkgHisto.FillN(bkgPredict.shape[0],(bkgPredict[:,0]).astype(float),np.ones(bkgPredict.shape[0]))"
   ]
  },
  {
   "cell_type": "code",
   "execution_count": 14,
   "metadata": {},
   "outputs": [
    {
     "name": "stdout",
     "output_type": "stream",
     "text": [
      "Created a canvas\n",
      "1\n",
      "2\n",
      "3\n",
      "4\n"
     ]
    },
    {
     "name": "stderr",
     "output_type": "stream",
     "text": [
      "Warning in <TCanvas::Constructor>: Deleting canvas with same name: c1\n",
      "Info in <TCanvas::Print>: pdf file Discriminator_Beautified.pdf has been created\n"
     ]
    }
   ],
   "source": [
    "# Using plotBeautifier\n",
    "\n",
    "histList = [sigTrainHisto, sigHisto, sig2Histo, bkgHisto]\n",
    "labelList = [\"(304,324,2cm)\", \"(200,220,2cm)\", \"(180,220,2cm)\", \"HF Background\"]\n",
    "xAxisTitle = \"Sig_Prob\"\n",
    "yAxisTitle = \"# Events (scaled to 1)\"\n",
    "outPlotName = \"Discriminator_Beautified\"\n",
    "pB.plotBeautifier(histList, labelList, xAxisTitle, yAxisTitle, outPlotName)"
   ]
  },
  {
   "cell_type": "code",
   "execution_count": 15,
   "metadata": {},
   "outputs": [
    {
     "data": {
      "text/plain": [
       "numpy.ndarray"
      ]
     },
     "execution_count": 15,
     "metadata": {},
     "output_type": "execute_result"
    }
   ],
   "source": [
    "type((sigTrainPredict[:,0]).astype(float))"
   ]
  },
  {
   "cell_type": "code",
   "execution_count": 18,
   "metadata": {},
   "outputs": [],
   "source": [
    "# For plots based on discriminator cut\n",
    "\n",
    "sigProb = np.arange(0, 1, 0.001) \n",
    "sigPredictSigProb = np.array(sigPredict)[:,0] \n",
    "sig2PredictSigProb = np.array(sigPredict2)[:,0] \n",
    "sigTrainPredictSigProb = np.array(sigTrainPredict)[:,0] \n",
    "bkgPredictSigProb = np.array(bkgPredict)[:,0]\n",
    "\n",
    "tpr = [] \n",
    "fpr = []\n",
    "tpr2 = [] \n",
    "fpr2 = []\n",
    "tprTrain = [] \n",
    "fprTrain = []\n",
    "\n",
    "for x in sigProb: \n",
    "    sigPredictClass = sigPredictSigProb>x \n",
    "    sig2PredictClass = sig2PredictSigProb>x \n",
    "    sigTrainPredictClass = sigTrainPredictSigProb>x\n",
    "    bkgPredictClass = bkgPredictSigProb>x\n",
    "    \n",
    "    tp1 = sigPredictClass.sum()\n",
    "    fn1 = (1-sigPredictClass).sum()\n",
    "    tn1 = (1-bkgPredictClass).sum()\n",
    "    fp1 = bkgPredictClass.sum()\n",
    "    tpr.append(tp1/(tp1+fn1))\n",
    "    fpr.append(fp1/(fp1+tn1))\n",
    "\n",
    "    tp3 = sig2PredictClass.sum()\n",
    "    fn3 = (1-sig2PredictClass).sum()\n",
    "    tn3 = (1-bkgPredictClass).sum()\n",
    "    fp3 = bkgPredictClass.sum()\n",
    "    tpr2.append(tp3/(tp3+fn3))\n",
    "    fpr2.append(fp3/(fp3+tn3))\n",
    "\n",
    "    tp2 = sigTrainPredictClass.sum()\n",
    "    fn2 = (1-sigTrainPredictClass).sum()\n",
    "    tn2 = (1-bkgPredictClass).sum()\n",
    "    fp2 = bkgPredictClass.sum()\n",
    "    tprTrain.append(tp2/(tp2+fn2))\n",
    "    fprTrain.append(fp2/(fp2+tn2))"
   ]
  },
  {
   "cell_type": "code",
   "execution_count": 19,
   "metadata": {},
   "outputs": [
    {
     "data": {
      "image/png": "[encoded data removed]",
      "text/plain": [
       "<Figure size 432x288 with 1 Axes>"
      ]
     },
     "metadata": {
      "needs_background": "light"
     },
     "output_type": "display_data"
    }
   ],
   "source": [
    "# ROC Curve\n",
    "\n",
    "plt.clf()\n",
    "plt.plot(fpr,tpr, label=\"(200,220,2cm)\")\n",
    "plt.plot(fpr2,tpr2, label=\"(180,220,2cm)\")\n",
    "plt.plot(fprTrain,tprTrain, label=\"(304,324,2cm)\")\n",
    "plt.xlabel(\"False Positive Rate\")\n",
    "plt.ylabel(\"True Positive Rate\")\n",
    "#plt.xscale('log')\n",
    "plt.legend()\n",
    "plt.savefig(\"roc.pdf\")"
   ]
  },
  {
   "cell_type": "code",
   "execution_count": 20,
   "metadata": {},
   "outputs": [
    {
     "data": {
      "image/png": "[encoded data removed]",
      "text/plain": [
       "<Figure size 432x288 with 1 Axes>"
      ]
     },
     "metadata": {
      "needs_background": "light"
     },
     "output_type": "display_data"
    },
    {
     "data": {
      "image/png": "[encoded data removed]",
      "text/plain": [
       "<Figure size 432x288 with 1 Axes>"
      ]
     },
     "metadata": {
      "needs_background": "light"
     },
     "output_type": "display_data"
    },
    {
     "data": {
      "image/png": "[encoded data removed]",
      "text/plain": [
       "<Figure size 432x288 with 1 Axes>"
      ]
     },
     "metadata": {
      "needs_background": "light"
     },
     "output_type": "display_data"
    },
    {
     "data": {
      "image/png": "[encoded data removed]",
      "text/plain": [
       "<Figure size 432x288 with 1 Axes>"
      ]
     },
     "metadata": {
      "needs_background": "light"
     },
     "output_type": "display_data"
    },
    {
     "data": {
      "image/png": "[encoded data removed]",
      "text/plain": [
       "<Figure size 432x288 with 1 Axes>"
      ]
     },
     "metadata": {
      "needs_background": "light"
     },
     "output_type": "display_data"
    },
    {
     "data": {
      "image/png": "[encoded data removed]",
      "text/plain": [
       "<Figure size 432x288 with 1 Axes>"
      ]
     },
     "metadata": {
      "needs_background": "light"
     },
     "output_type": "display_data"
    },
    {
     "data": {
      "image/png": "[encoded data removed]",
      "text/plain": [
       "<Figure size 432x288 with 1 Axes>"
      ]
     },
     "metadata": {
      "needs_background": "light"
     },
     "output_type": "display_data"
    },
    {
     "data": {
      "image/png": "[encoded data removed]",
      "text/plain": [
       "<Figure size 432x288 with 1 Axes>"
      ]
     },
     "metadata": {
      "needs_background": "light"
     },
     "output_type": "display_data"
    },
    {
     "data": {
      "image/png": "[encoded data removed]",
      "text/plain": [
       "<Figure size 432x288 with 1 Axes>"
      ]
     },
     "metadata": {
      "needs_background": "light"
     },
     "output_type": "display_data"
    }
   ],
   "source": [
    "# Plots for scaled input variables above\n",
    "\n",
    "for varCtr in np.arange(sigTest.shape[1]):\n",
    "    plt.clf()\n",
    "    plt.yscale('log')\n",
    "    plt.hist(np.transpose(sigTest)[varCtr], bins=20, range=(-5.3,5.3), density=True, color=None, histtype='step', label='sigTest')\n",
    "    plt.hist(np.transpose(bkgTest)[varCtr], bins=20, range=(-5.3,5.3), density=True, color=None, histtype='step', label='bkgTest')\n",
    "    plt.show()\n"
   ]
  },
  {
   "cell_type": "code",
   "execution_count": null,
   "metadata": {},
   "outputs": [],
   "source": []
  }
 ],
 "metadata": {
  "kernelspec": {
   "display_name": "Python 3",
   "language": "python",
   "name": "python3"
  },
  "language_info": {
   "codemirror_mode": {
    "name": "ipython",
    "version": 3
   },
   "file_extension": ".py",
   "mimetype": "text/x-python",
   "name": "python",
   "nbconvert_exporter": "python",
   "pygments_lexer": "ipython3",
   "version": "3.6.9"
  }
 },
 "nbformat": 4,
 "nbformat_minor": 4
}
