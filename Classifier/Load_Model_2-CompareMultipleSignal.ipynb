{
 "cells": [
  {
   "cell_type": "code",
   "execution_count": 58,
   "metadata": {},
   "outputs": [
    {
     "name": "stdout",
     "output_type": "stream",
     "text": [
      "All classes initialized successfully!!!\n"
     ]
    }
   ],
   "source": [
    "import tensorflow as tf\n",
    "from tensorflow.python.keras import models as m\n",
    "from tensorflow.python.keras import layers as l\n",
    "\n",
    "import math\n",
    "import numpy as np\n",
    "import matplotlib.pyplot as plt\n",
    "from sklearn.preprocessing import StandardScaler\n",
    "import joblib\n",
    "from sklearn.metrics import confusion_matrix, fbeta_score\n",
    "from scikitplot.metrics import plot_roc, plot_confusion_matrix\n",
    "\n",
    "import seaborn as sn\n",
    "import pandas as pd\n",
    "\n",
    "from ROOT import TFile, TTree, TChain\n",
    "from ROOT import TH1F, TCanvas\n",
    "\n",
    "import os\n",
    "import sys\n",
    "sys.path.insert(0, os.path.abspath('/home/arsahasransu/Documents/SoftDisplacedLeptons/Classifier/'))\n",
    "\n",
    "print(\"All classes initialized successfully!!!\")"
   ]
  },
  {
   "cell_type": "code",
   "execution_count": 2,
   "metadata": {},
   "outputs": [],
   "source": [
    "import plotBeautifier as pB"
   ]
  },
  {
   "cell_type": "code",
   "execution_count": 3,
   "metadata": {},
   "outputs": [
    {
     "name": "stdout",
     "output_type": "stream",
     "text": [
      "Trial works fine. Hello,AR\n"
     ]
    }
   ],
   "source": [
    "pB.trial_func(\"AR\")"
   ]
  },
  {
   "cell_type": "code",
   "execution_count": 25,
   "metadata": {},
   "outputs": [
    {
     "name": "stdout",
     "output_type": "stream",
     "text": [
      "Data read from the trees. Printing out the contents.\n"
     ]
    }
   ],
   "source": [
    "sigChan = TChain(\"varTree\")\n",
    "sigChan.Add(\"../signal_BP_200_220_2cm_DNN.root\")\n",
    "sigChan2 = TChain(\"varTree\")\n",
    "sigChan2.Add(\"../signal_BP_180_220_2cm_DNN.root\")\n",
    "sigChan3 = TChain(\"varTree\")\n",
    "sigChan3.Add(\"../signal_BP_200_220_DM_DNN.root\")\n",
    "sigChanTrain = TChain(\"varTree\")\n",
    "sigChanTrain.Add(\"../signal_DNN.root\")\n",
    "bkgChan = TChain(\"varTree\")\n",
    "bkgChan.Add(\"../background_DNN.root\")\n",
    "print(\"Data read from the trees. Printing out the contents.\")"
   ]
  },
  {
   "cell_type": "code",
   "execution_count": 26,
   "metadata": {},
   "outputs": [
    {
     "name": "stdout",
     "output_type": "stream",
     "text": [
      "******************************************************************************\n",
      "*Chain   :varTree   : ../signal_BP_200_220_2cm_DNN.root                      *\n",
      "******************************************************************************\n",
      "******************************************************************************\n",
      "*Tree    :varTree   : Input Variables List for Algorithms                    *\n",
      "*Entries :    19758 : Total =         1431139 bytes  File  Size =    1214718 *\n",
      "*        :          : Tree compression factor =   1.18                       *\n",
      "******************************************************************************\n",
      "*Br    0 :HtJet     : HtJet/D                                                *\n",
      "*Entries :    19758 : Total  Size=     158932 bytes  File Size  =      10397 *\n",
      "*Baskets :        5 : Basket Size=      32000 bytes  Compression=  15.24     *\n",
      "*............................................................................*\n",
      "*Br    1 :dRLL      : dRLL/D                                                 *\n",
      "*Entries :    19758 : Total  Size=     158923 bytes  File Size  =     148328 *\n",
      "*Baskets :        5 : Basket Size=      32000 bytes  Compression=   1.07     *\n",
      "*............................................................................*\n",
      "*Br    2 :dPhiLepMETSelObj : dPhiLepMETSelObj/D                              *\n",
      "*Entries :    19758 : Total  Size=     159031 bytes  File Size  =     150290 *\n",
      "*Baskets :        5 : Basket Size=      32000 bytes  Compression=   1.05     *\n",
      "*............................................................................*\n",
      "*Br    3 :YDelpObj  : YDelpObj/D                                             *\n",
      "*Entries :    19758 : Total  Size=     158959 bytes  File Size  =     151773 *\n",
      "*Baskets :        5 : Basket Size=      32000 bytes  Compression=   1.04     *\n",
      "*............................................................................*\n",
      "*Br    4 :YUserObj  : YUserObj/D                                             *\n",
      "*Entries :    19758 : Total  Size=     158959 bytes  File Size  =     152084 *\n",
      "*Baskets :        5 : Basket Size=      32000 bytes  Compression=   1.04     *\n",
      "*............................................................................*\n",
      "*Br    5 :alphaT    : alphaT/D                                               *\n",
      "*Entries :    19758 : Total  Size=     158941 bytes  File Size  =     148651 *\n",
      "*Baskets :        5 : Basket Size=      32000 bytes  Compression=   1.07     *\n",
      "*............................................................................*\n",
      "*Br    6 :Sphericity : Sphericity/D                                          *\n",
      "*Entries :    19758 : Total  Size=     158977 bytes  File Size  =     150533 *\n",
      "*Baskets :        5 : Basket Size=      32000 bytes  Compression=   1.05     *\n",
      "*............................................................................*\n",
      "*Br    7 :Spherocity : Spherocity/D                                          *\n",
      "*Entries :    19758 : Total  Size=     158977 bytes  File Size  =     150792 *\n",
      "*Baskets :        5 : Basket Size=      32000 bytes  Compression=   1.05     *\n",
      "*............................................................................*\n",
      "*Br    8 :MtLeadLepMET : MtLeadLepMET/D                                      *\n",
      "*Entries :    19758 : Total  Size=     158995 bytes  File Size  =     150509 *\n",
      "*Baskets :        5 : Basket Size=      32000 bytes  Compression=   1.05     *\n",
      "*............................................................................*\n",
      "******************************************************************************\n",
      "*Chain   :varTree   : ../signal_BP_180_220_2cm_DNN.root                      *\n",
      "******************************************************************************\n",
      "******************************************************************************\n",
      "*Tree    :varTree   : Input Variables List for Algorithms                    *\n",
      "*Entries :   123645 : Total =         8933397 bytes  File  Size =    7608579 *\n",
      "*        :          : Tree compression factor =   1.17                       *\n",
      "******************************************************************************\n",
      "*Br    0 :HtJet     : HtJet/D                                                *\n",
      "*Entries :   123645 : Total  Size=     992418 bytes  File Size  =      65444 *\n",
      "*Baskets :       31 : Basket Size=      32000 bytes  Compression=  15.15     *\n",
      "*............................................................................*\n",
      "*Br    1 :dRLL      : dRLL/D                                                 *\n",
      "*Entries :   123645 : Total  Size=     992383 bytes  File Size  =     938669 *\n",
      "*Baskets :       31 : Basket Size=      32000 bytes  Compression=   1.06     *\n",
      "*............................................................................*\n",
      "*Br    2 :dPhiLepMETSelObj : dPhiLepMETSelObj/D                              *\n",
      "*Entries :   123645 : Total  Size=     992803 bytes  File Size  =     939990 *\n",
      "*Baskets :       31 : Basket Size=      32000 bytes  Compression=   1.06     *\n",
      "*............................................................................*\n",
      "*Br    3 :YDelpObj  : YDelpObj/D                                             *\n",
      "*Entries :   123645 : Total  Size=     992523 bytes  File Size  =     948540 *\n",
      "*Baskets :       31 : Basket Size=      32000 bytes  Compression=   1.05     *\n",
      "*............................................................................*\n",
      "*Br    4 :YUserObj  : YUserObj/D                                             *\n",
      "*Entries :   123645 : Total  Size=     992523 bytes  File Size  =     949846 *\n",
      "*Baskets :       31 : Basket Size=      32000 bytes  Compression=   1.04     *\n",
      "*............................................................................*\n",
      "*Br    5 :alphaT    : alphaT/D                                               *\n",
      "*Entries :   123645 : Total  Size=     992453 bytes  File Size  =     936237 *\n",
      "*Baskets :       31 : Basket Size=      32000 bytes  Compression=   1.06     *\n",
      "*............................................................................*\n",
      "*Br    6 :Sphericity : Sphericity/D                                          *\n",
      "*Entries :   123645 : Total  Size=     992593 bytes  File Size  =     941997 *\n",
      "*Baskets :       31 : Basket Size=      32000 bytes  Compression=   1.05     *\n",
      "*............................................................................*\n",
      "*Br    7 :Spherocity : Spherocity/D                                          *\n",
      "*Entries :   123645 : Total  Size=     992593 bytes  File Size  =     943072 *\n",
      "*Baskets :       31 : Basket Size=      32000 bytes  Compression=   1.05     *\n",
      "*............................................................................*\n",
      "*Br    8 :MtLeadLepMET : MtLeadLepMET/D                                      *\n",
      "*Entries :   123645 : Total  Size=     992663 bytes  File Size  =     941703 *\n",
      "*Baskets :       31 : Basket Size=      32000 bytes  Compression=   1.05     *\n",
      "*............................................................................*\n",
      "******************************************************************************\n",
      "*Chain   :varTree   : ../signal_BP_200_220_DM_DNN.root                       *\n",
      "******************************************************************************\n",
      "******************************************************************************\n",
      "*Tree    :varTree   : Input Variables List for Algorithms                    *\n",
      "*Entries :    19256 : Total =         1394995 bytes  File  Size =    1183354 *\n",
      "*        :          : Tree compression factor =   1.18                       *\n",
      "******************************************************************************\n",
      "*Br    0 :HtJet     : HtJet/D                                                *\n",
      "*Entries :    19256 : Total  Size=     154916 bytes  File Size  =      10160 *\n",
      "*Baskets :        5 : Basket Size=      32000 bytes  Compression=  15.20     *\n",
      "*............................................................................*\n",
      "*Br    1 :dRLL      : dRLL/D                                                 *\n",
      "*Entries :    19256 : Total  Size=     154907 bytes  File Size  =     144576 *\n",
      "*Baskets :        5 : Basket Size=      32000 bytes  Compression=   1.07     *\n",
      "*............................................................................*\n",
      "*Br    2 :dPhiLepMETSelObj : dPhiLepMETSelObj/D                              *\n",
      "*Entries :    19256 : Total  Size=     155015 bytes  File Size  =     146112 *\n",
      "*Baskets :        5 : Basket Size=      32000 bytes  Compression=   1.06     *\n",
      "*............................................................................*\n",
      "*Br    3 :YDelpObj  : YDelpObj/D                                             *\n",
      "*Entries :    19256 : Total  Size=     154943 bytes  File Size  =     147964 *\n",
      "*Baskets :        5 : Basket Size=      32000 bytes  Compression=   1.04     *\n",
      "*............................................................................*\n",
      "*Br    4 :YUserObj  : YUserObj/D                                             *\n",
      "*Entries :    19256 : Total  Size=     154943 bytes  File Size  =     148305 *\n",
      "*Baskets :        5 : Basket Size=      32000 bytes  Compression=   1.04     *\n",
      "*............................................................................*\n",
      "*Br    5 :alphaT    : alphaT/D                                               *\n",
      "*Entries :    19256 : Total  Size=     154925 bytes  File Size  =     144497 *\n",
      "*Baskets :        5 : Basket Size=      32000 bytes  Compression=   1.07     *\n",
      "*............................................................................*\n",
      "*Br    6 :Sphericity : Sphericity/D                                          *\n",
      "*Entries :    19256 : Total  Size=     154961 bytes  File Size  =     146714 *\n",
      "*Baskets :        5 : Basket Size=      32000 bytes  Compression=   1.05     *\n",
      "*............................................................................*\n",
      "*Br    7 :Spherocity : Spherocity/D                                          *\n",
      "*Entries :    19256 : Total  Size=     154961 bytes  File Size  =     146954 *\n",
      "*Baskets :        5 : Basket Size=      32000 bytes  Compression=   1.05     *\n",
      "*............................................................................*\n",
      "*Br    8 :MtLeadLepMET : MtLeadLepMET/D                                      *\n",
      "*Entries :    19256 : Total  Size=     154979 bytes  File Size  =     146710 *\n",
      "*Baskets :        5 : Basket Size=      32000 bytes  Compression=   1.05     *\n",
      "*............................................................................*\n",
      "******************************************************************************\n",
      "*Chain   :varTree   : ../signal_DNN.root                                     *\n",
      "******************************************************************************\n",
      "******************************************************************************\n",
      "*Tree    :varTree   : Input Variables List for Algorithms                    *\n",
      "*Entries :    44440 : Total =         3213746 bytes  File  Size =    2732257 *\n",
      "*        :          : Tree compression factor =   1.17                       *\n",
      "******************************************************************************\n",
      "*Br    0 :HtJet     : HtJet/D                                                *\n",
      "*Entries :    44440 : Total  Size=     356973 bytes  File Size  =      24645 *\n",
      "*Baskets :       12 : Basket Size=      32000 bytes  Compression=  14.46     *\n",
      "*............................................................................*\n",
      "*Br    1 :dRLL      : dRLL/D                                                 *\n",
      "*Entries :    44440 : Total  Size=     356957 bytes  File Size  =     333416 *\n",
      "*Baskets :       12 : Basket Size=      32000 bytes  Compression=   1.07     *\n",
      "*............................................................................*\n",
      "*Br    2 :dPhiLepMETSelObj : dPhiLepMETSelObj/D                              *\n",
      "*Entries :    44440 : Total  Size=     357149 bytes  File Size  =     338144 *\n",
      "*Baskets :       12 : Basket Size=      32000 bytes  Compression=   1.05     *\n",
      "*............................................................................*\n",
      "*Br    3 :YDelpObj  : YDelpObj/D                                             *\n",
      "*Entries :    44440 : Total  Size=     357021 bytes  File Size  =     341350 *\n",
      "*Baskets :       12 : Basket Size=      32000 bytes  Compression=   1.04     *\n",
      "*............................................................................*\n",
      "*Br    4 :YUserObj  : YUserObj/D                                             *\n",
      "*Entries :    44440 : Total  Size=     357021 bytes  File Size  =     342208 *\n",
      "*Baskets :       12 : Basket Size=      32000 bytes  Compression=   1.04     *\n",
      "*............................................................................*\n",
      "*Br    5 :alphaT    : alphaT/D                                               *\n",
      "*Entries :    44440 : Total  Size=     356989 bytes  File Size  =     334194 *\n",
      "*Baskets :       12 : Basket Size=      32000 bytes  Compression=   1.07     *\n",
      "*............................................................................*\n",
      "*Br    6 :Sphericity : Sphericity/D                                          *\n",
      "*Entries :    44440 : Total  Size=     357053 bytes  File Size  =     338633 *\n",
      "*Baskets :       12 : Basket Size=      32000 bytes  Compression=   1.05     *\n",
      "*............................................................................*\n",
      "*Br    7 :Spherocity : Spherocity/D                                          *\n",
      "*Entries :    44440 : Total  Size=     357053 bytes  File Size  =     339191 *\n",
      "*Baskets :       12 : Basket Size=      32000 bytes  Compression=   1.05     *\n",
      "*............................................................................*\n",
      "*Br    8 :MtLeadLepMET : MtLeadLepMET/D                                      *\n",
      "*Entries :    44440 : Total  Size=     357085 bytes  File Size  =     338631 *\n",
      "*Baskets :       12 : Basket Size=      32000 bytes  Compression=   1.05     *\n",
      "*............................................................................*\n",
      "******************************************************************************\n",
      "*Chain   :varTree   : ../background_DNN.root                                 *\n",
      "******************************************************************************\n",
      "******************************************************************************\n",
      "*Tree    :varTree   : Input Variables List for Algorithms                    *\n",
      "*Entries :     4108 : Total =          302212 bytes  File  Size =     255633 *\n",
      "*        :          : Tree compression factor =   1.17                       *\n",
      "******************************************************************************\n",
      "*Br    0 :HtJet     : HtJet/D                                                *\n",
      "*Entries :     4108 : Total  Size=      33507 bytes  File Size  =       2197 *\n",
      "*Baskets :        2 : Basket Size=      32000 bytes  Compression=  15.03     *\n",
      "*............................................................................*\n",
      "*Br    1 :dRLL      : dRLL/D                                                 *\n",
      "*Entries :     4108 : Total  Size=      33501 bytes  File Size  =      31470 *\n",
      "*Baskets :        2 : Basket Size=      32000 bytes  Compression=   1.05     *\n",
      "*............................................................................*\n",
      "*Br    2 :dPhiLepMETSelObj : dPhiLepMETSelObj/D                              *\n",
      "*Entries :     4108 : Total  Size=      33573 bytes  File Size  =      31386 *\n",
      "*Baskets :        2 : Basket Size=      32000 bytes  Compression=   1.05     *\n",
      "*............................................................................*\n",
      "*Br    3 :YDelpObj  : YDelpObj/D                                             *\n",
      "*Entries :     4108 : Total  Size=      33525 bytes  File Size  =      31701 *\n",
      "*Baskets :        2 : Basket Size=      32000 bytes  Compression=   1.04     *\n",
      "*............................................................................*\n",
      "*Br    4 :YUserObj  : YUserObj/D                                             *\n",
      "*Entries :     4108 : Total  Size=      33525 bytes  File Size  =      31759 *\n",
      "*Baskets :        2 : Basket Size=      32000 bytes  Compression=   1.04     *\n",
      "*............................................................................*\n",
      "*Br    5 :alphaT    : alphaT/D                                               *\n",
      "*Entries :     4108 : Total  Size=      33513 bytes  File Size  =      31483 *\n",
      "*Baskets :        2 : Basket Size=      32000 bytes  Compression=   1.05     *\n",
      "*............................................................................*\n",
      "*Br    6 :Sphericity : Sphericity/D                                          *\n",
      "*Entries :     4108 : Total  Size=      33537 bytes  File Size  =      31444 *\n",
      "*Baskets :        2 : Basket Size=      32000 bytes  Compression=   1.05     *\n",
      "*............................................................................*\n",
      "*Br    7 :Spherocity : Spherocity/D                                          *\n",
      "*Entries :     4108 : Total  Size=      33537 bytes  File Size  =      31537 *\n",
      "*Baskets :        2 : Basket Size=      32000 bytes  Compression=   1.05     *\n",
      "*............................................................................*\n",
      "*Br    8 :MtLeadLepMET : MtLeadLepMET/D                                      *\n",
      "*Entries :     4108 : Total  Size=      33549 bytes  File Size  =      31512 *\n",
      "*Baskets :        2 : Basket Size=      32000 bytes  Compression=   1.05     *\n",
      "*............................................................................*\n"
     ]
    }
   ],
   "source": [
    "sigChan.Print()\n",
    "sigChan2.Print()\n",
    "sigChan3.Print()\n",
    "sigChanTrain.Print()\n",
    "bkgChan.Print()"
   ]
  },
  {
   "cell_type": "code",
   "execution_count": 50,
   "metadata": {},
   "outputs": [
    {
     "name": "stdout",
     "output_type": "stream",
     "text": [
      "(19758, 9)\n",
      "(9999, 9)\n",
      "(16756, 9)\n",
      "(44440, 9)\n",
      "(4108, 9)\n"
     ]
    }
   ],
   "source": [
    "# Read input data from root files\n",
    "sigSampleSize = sigChan.GetEntries()\n",
    "sig2SampleSize = sigChan2.GetEntries()\n",
    "sig3SampleSize = sigChan3.GetEntries()\n",
    "sigTrainSampleSize = sigChanTrain.GetEntries()\n",
    "bkgSampleSize = bkgChan.GetEntries()\n",
    "\n",
    "# Convert the input data to matrices\n",
    "sigFull = sigChan.AsMatrix()\n",
    "sigFull2 = sigChan2.AsMatrix()\n",
    "sigFull2 = sigFull2[1:10000]\n",
    "sigFull3 = sigChan3.AsMatrix()\n",
    "sigFull3 = sigFull3[2500:]\n",
    "sigTrainFull = sigChanTrain.AsMatrix()\n",
    "bkgFull = bkgChan.AsMatrix()\n",
    "\n",
    "print(sigFull.shape)\n",
    "print(sigFull2.shape)\n",
    "print(sigFull3.shape)\n",
    "print(sigTrainFull.shape)\n",
    "print(bkgFull.shape)"
   ]
  },
  {
   "cell_type": "code",
   "execution_count": 51,
   "metadata": {},
   "outputs": [
    {
     "name": "stdout",
     "output_type": "stream",
     "text": [
      "Model: \"sequential\"\n",
      "_________________________________________________________________\n",
      "Layer (type)                 Output Shape              Param #   \n",
      "=================================================================\n",
      "dense (Dense)                (None, 18)                180       \n",
      "_________________________________________________________________\n",
      "dropout (Dropout)            (None, 18)                0         \n",
      "_________________________________________________________________\n",
      "dense_1 (Dense)              (None, 18)                342       \n",
      "_________________________________________________________________\n",
      "dropout_1 (Dropout)          (None, 18)                0         \n",
      "_________________________________________________________________\n",
      "dense_2 (Dense)              (None, 2)                 38        \n",
      "=================================================================\n",
      "Total params: 560\n",
      "Trainable params: 560\n",
      "Non-trainable params: 0\n",
      "_________________________________________________________________\n"
     ]
    }
   ],
   "source": [
    "# Load the input data scaler\n",
    "scaler = joblib.load(\"./scaler.save\")\n",
    "\n",
    "# Load the model\n",
    "loaded_model = m.load_model(\"./simplePer.h5\")\n",
    "loaded_model.summary()"
   ]
  },
  {
   "cell_type": "code",
   "execution_count": 52,
   "metadata": {},
   "outputs": [
    {
     "ename": "ValueError",
     "evalue": "Input contains infinity or a value too large for dtype('float64').",
     "output_type": "error",
     "traceback": [
      "\u001b[0;31m---------------------------------------------------------------------------\u001b[0m",
      "\u001b[0;31mValueError\u001b[0m                                Traceback (most recent call last)",
      "\u001b[0;32m<ipython-input-52-66ed58816c1a>\u001b[0m in \u001b[0;36m<module>\u001b[0;34m\u001b[0m\n\u001b[1;32m      2\u001b[0m \u001b[0msigScaled\u001b[0m \u001b[0;34m=\u001b[0m \u001b[0mscaler\u001b[0m\u001b[0;34m.\u001b[0m\u001b[0mtransform\u001b[0m\u001b[0;34m(\u001b[0m\u001b[0msigFull\u001b[0m\u001b[0;34m)\u001b[0m\u001b[0;34m\u001b[0m\u001b[0;34m\u001b[0m\u001b[0m\n\u001b[1;32m      3\u001b[0m \u001b[0msigScaled2\u001b[0m \u001b[0;34m=\u001b[0m \u001b[0mscaler\u001b[0m\u001b[0;34m.\u001b[0m\u001b[0mtransform\u001b[0m\u001b[0;34m(\u001b[0m\u001b[0msigFull2\u001b[0m\u001b[0;34m)\u001b[0m\u001b[0;34m\u001b[0m\u001b[0;34m\u001b[0m\u001b[0m\n\u001b[0;32m----> 4\u001b[0;31m \u001b[0msigScaled3\u001b[0m \u001b[0;34m=\u001b[0m \u001b[0mscaler\u001b[0m\u001b[0;34m.\u001b[0m\u001b[0mtransform\u001b[0m\u001b[0;34m(\u001b[0m\u001b[0msigFull3\u001b[0m\u001b[0;34m)\u001b[0m\u001b[0;34m\u001b[0m\u001b[0;34m\u001b[0m\u001b[0m\n\u001b[0m\u001b[1;32m      5\u001b[0m \u001b[0msigTrainScaled\u001b[0m \u001b[0;34m=\u001b[0m \u001b[0mscaler\u001b[0m\u001b[0;34m.\u001b[0m\u001b[0mtransform\u001b[0m\u001b[0;34m(\u001b[0m\u001b[0msigTrainFull\u001b[0m\u001b[0;34m)\u001b[0m\u001b[0;34m\u001b[0m\u001b[0;34m\u001b[0m\u001b[0m\n\u001b[1;32m      6\u001b[0m \u001b[0mbkgScaled\u001b[0m \u001b[0;34m=\u001b[0m \u001b[0mscaler\u001b[0m\u001b[0;34m.\u001b[0m\u001b[0mtransform\u001b[0m\u001b[0;34m(\u001b[0m\u001b[0mbkgFull\u001b[0m\u001b[0;34m)\u001b[0m\u001b[0;34m\u001b[0m\u001b[0;34m\u001b[0m\u001b[0m\n",
      "\u001b[0;32m~/.local/lib/python3.6/site-packages/sklearn/preprocessing/_data.py\u001b[0m in \u001b[0;36mtransform\u001b[0;34m(self, X, copy)\u001b[0m\n\u001b[1;32m    793\u001b[0m         X = check_array(X, accept_sparse='csr', copy=copy,\n\u001b[1;32m    794\u001b[0m                         \u001b[0mestimator\u001b[0m\u001b[0;34m=\u001b[0m\u001b[0mself\u001b[0m\u001b[0;34m,\u001b[0m \u001b[0mdtype\u001b[0m\u001b[0;34m=\u001b[0m\u001b[0mFLOAT_DTYPES\u001b[0m\u001b[0;34m,\u001b[0m\u001b[0;34m\u001b[0m\u001b[0;34m\u001b[0m\u001b[0m\n\u001b[0;32m--> 795\u001b[0;31m                         force_all_finite='allow-nan')\n\u001b[0m\u001b[1;32m    796\u001b[0m \u001b[0;34m\u001b[0m\u001b[0m\n\u001b[1;32m    797\u001b[0m         \u001b[0;32mif\u001b[0m \u001b[0msparse\u001b[0m\u001b[0;34m.\u001b[0m\u001b[0missparse\u001b[0m\u001b[0;34m(\u001b[0m\u001b[0mX\u001b[0m\u001b[0;34m)\u001b[0m\u001b[0;34m:\u001b[0m\u001b[0;34m\u001b[0m\u001b[0;34m\u001b[0m\u001b[0m\n",
      "\u001b[0;32m~/.local/lib/python3.6/site-packages/sklearn/utils/validation.py\u001b[0m in \u001b[0;36mcheck_array\u001b[0;34m(array, accept_sparse, accept_large_sparse, dtype, order, copy, force_all_finite, ensure_2d, allow_nd, ensure_min_samples, ensure_min_features, warn_on_dtype, estimator)\u001b[0m\n\u001b[1;32m    576\u001b[0m         \u001b[0;32mif\u001b[0m \u001b[0mforce_all_finite\u001b[0m\u001b[0;34m:\u001b[0m\u001b[0;34m\u001b[0m\u001b[0;34m\u001b[0m\u001b[0m\n\u001b[1;32m    577\u001b[0m             _assert_all_finite(array,\n\u001b[0;32m--> 578\u001b[0;31m                                allow_nan=force_all_finite == 'allow-nan')\n\u001b[0m\u001b[1;32m    579\u001b[0m \u001b[0;34m\u001b[0m\u001b[0m\n\u001b[1;32m    580\u001b[0m     \u001b[0;32mif\u001b[0m \u001b[0mensure_min_samples\u001b[0m \u001b[0;34m>\u001b[0m \u001b[0;36m0\u001b[0m\u001b[0;34m:\u001b[0m\u001b[0;34m\u001b[0m\u001b[0;34m\u001b[0m\u001b[0m\n",
      "\u001b[0;32m~/.local/lib/python3.6/site-packages/sklearn/utils/validation.py\u001b[0m in \u001b[0;36m_assert_all_finite\u001b[0;34m(X, allow_nan, msg_dtype)\u001b[0m\n\u001b[1;32m     58\u001b[0m                     \u001b[0mmsg_err\u001b[0m\u001b[0;34m.\u001b[0m\u001b[0mformat\u001b[0m\u001b[0;34m\u001b[0m\u001b[0;34m\u001b[0m\u001b[0m\n\u001b[1;32m     59\u001b[0m                     (type_err,\n\u001b[0;32m---> 60\u001b[0;31m                      msg_dtype if msg_dtype is not None else X.dtype)\n\u001b[0m\u001b[1;32m     61\u001b[0m             )\n\u001b[1;32m     62\u001b[0m     \u001b[0;31m# for object dtype data, we only check for NaNs (GH-13254)\u001b[0m\u001b[0;34m\u001b[0m\u001b[0;34m\u001b[0m\u001b[0;34m\u001b[0m\u001b[0m\n",
      "\u001b[0;31mValueError\u001b[0m: Input contains infinity or a value too large for dtype('float64')."
     ]
    }
   ],
   "source": [
    "# Predict on the samples\n",
    "sigScaled = scaler.transform(sigFull)\n",
    "sigScaled2 = scaler.transform(sigFull2)\n",
    "sigScaled3 = scaler.transform(sigFull3)\n",
    "sigTrainScaled = scaler.transform(sigTrainFull)\n",
    "bkgScaled = scaler.transform(bkgFull)\n",
    "\n",
    "sigPredict = loaded_model.predict(sigScaled)\n",
    "sigPredict2 = loaded_model.predict(sigScaled2)\n",
    "sigPredict3 = loaded_model.predict(sigScaled3)\n",
    "sigTrainPredict = loaded_model.predict(sigTrainScaled)\n",
    "bkgPredict = loaded_model.predict(bkgScaled)"
   ]
  },
  {
   "cell_type": "code",
   "execution_count": 33,
   "metadata": {},
   "outputs": [
    {
     "name": "stdout",
     "output_type": "stream",
     "text": [
      "[[0.8068562  0.1931438 ]\n",
      " [0.30050308 0.6994969 ]\n",
      " [0.9924694  0.00753069]\n",
      " [0.3303033  0.66969675]\n",
      " [0.982544   0.01745597]]\n"
     ]
    }
   ],
   "source": [
    "print(sigTrainPredict[0:5])"
   ]
  },
  {
   "cell_type": "code",
   "execution_count": 34,
   "metadata": {},
   "outputs": [
    {
     "name": "stdout",
     "output_type": "stream",
     "text": [
      "[0.8068562  0.30050308 0.9924694  0.3303033  0.982544  ]\n"
     ]
    }
   ],
   "source": [
    "print(np.array(sigTrainPredict)[0:5,0])"
   ]
  },
  {
   "cell_type": "code",
   "execution_count": 35,
   "metadata": {
    "scrolled": true
   },
   "outputs": [
    {
     "name": "stdout",
     "output_type": "stream",
     "text": [
      "Discriminator plotted!!!\n"
     ]
    },
    {
     "data": {
      "image/png": "[encoded data removed]",
      "text/plain": [
       "<Figure size 432x288 with 1 Axes>"
      ]
     },
     "metadata": {
      "needs_background": "light"
     },
     "output_type": "display_data"
    }
   ],
   "source": [
    "# Discriminator shape\n",
    "plt.clf()\n",
    "plt.yscale('log')\n",
    "plt.hist(np.array(sigPredict)[:,0], bins=20, range=(0,1), density=True, color=None, histtype='step', label='(200,220,2cm)')\n",
    "plt.hist(np.array(sigPredict2)[:,0], bins=20, range=(0,1), density=True, color=None, histtype='step', label='(180,220,2cm)')\n",
    "plt.hist(np.array(sigPredict3)[:,0], bins=20, range=(0,1), density=True, color=None, histtype='step', label='(200,220,DM)')\n",
    "plt.hist(np.array(sigTrainPredict)[:,0], bins=20, range=(0,1), density=True, color=None, histtype='step', label='(304,324,2cm)')\n",
    "plt.hist(np.array(bkgPredict)[:,0], bins=20, range=(0,1), density=True, color=None, histtype='step', label='HF bkg')\n",
    "plt.xlabel(\"Sig_Prob\")\n",
    "plt.ylabel(\"#Events (Area scaled to 1)\")\n",
    "plt.legend()\n",
    "plt.savefig(\"Discriminator.pdf\")\n",
    "print(\"Discriminator plotted!!!\")"
   ]
  },
  {
   "cell_type": "code",
   "execution_count": 36,
   "metadata": {},
   "outputs": [],
   "source": [
    "# Discriminator Shape in ROOT plotting\n",
    "c1 = TCanvas()\n",
    "nBins = 100\n",
    "sigTrainHisto = TH1F(\"\",\"\",nBins,0,1)\n",
    "sigHisto = TH1F(\"\",\"\",nBins,0,1)\n",
    "sig2Histo = TH1F(\"\",\"\",nBins,0,1)\n",
    "sig3Histo = TH1F(\"\",\"\",nBins,0,1)\n",
    "bkgHisto = TH1F(\"\",\"\",nBins,0,1)\n",
    "sigTrainHisto.FillN(sigTrainPredict.shape[0],(sigTrainPredict[:,0]).astype(float),np.ones(sigTrainPredict.shape[0]))\n",
    "sigHisto.FillN(sigPredict.shape[0],(sigPredict[:,0]).astype(float),np.ones(sigPredict.shape[0]))\n",
    "sig2Histo.FillN(sigPredict2.shape[0],(sigPredict2[:,0]).astype(float),np.ones(sigPredict2.shape[0]))\n",
    "sig3Histo.FillN(sigPredict3.shape[0],(sigPredict3[:,0]).astype(float),np.ones(sigPredict3.shape[0]))\n",
    "bkgHisto.FillN(bkgPredict.shape[0],(bkgPredict[:,0]).astype(float),np.ones(bkgPredict.shape[0]))"
   ]
  },
  {
   "cell_type": "code",
   "execution_count": 37,
   "metadata": {},
   "outputs": [
    {
     "name": "stdout",
     "output_type": "stream",
     "text": [
      "Created a canvas\n",
      "1\n",
      "2\n",
      "3\n",
      "4\n",
      "5\n"
     ]
    },
    {
     "name": "stderr",
     "output_type": "stream",
     "text": [
      "Warning in <TCanvas::Constructor>: Deleting canvas with same name: c1\n",
      "Info in <TCanvas::Print>: pdf file Discriminator_Beautified.pdf has been created\n"
     ]
    }
   ],
   "source": [
    "# Using plotBeautifier\n",
    "\n",
    "histList = [sigTrainHisto, sigHisto, sig2Histo, sig3Histo, bkgHisto]\n",
    "labelList = [\"(304,324,2cm)\", \"(200,220,2cm)\", \"(180,220,2cm)\", \"(200,220,DM)\", \"HF Background\"]\n",
    "xAxisTitle = \"Sig_Prob\"\n",
    "yAxisTitle = \"# Events (scaled to 1)\"\n",
    "outPlotName = \"Discriminator_Beautified\"\n",
    "pB.plotBeautifier(histList, labelList, xAxisTitle, yAxisTitle, outPlotName)"
   ]
  },
  {
   "cell_type": "code",
   "execution_count": 38,
   "metadata": {},
   "outputs": [
    {
     "data": {
      "text/plain": [
       "numpy.ndarray"
      ]
     },
     "execution_count": 38,
     "metadata": {},
     "output_type": "execute_result"
    }
   ],
   "source": [
    "type((sigTrainPredict[:,0]).astype(float))"
   ]
  },
  {
   "cell_type": "code",
   "execution_count": 39,
   "metadata": {},
   "outputs": [],
   "source": [
    "# For plots based on discriminator cut\n",
    "\n",
    "sigProb = np.arange(0, 1, 0.001) \n",
    "sigPredictSigProb = np.array(sigPredict)[:,0] \n",
    "sig2PredictSigProb = np.array(sigPredict2)[:,0] \n",
    "sig3PredictSigProb = np.array(sigPredict3)[:,0] \n",
    "sigTrainPredictSigProb = np.array(sigTrainPredict)[:,0] \n",
    "bkgPredictSigProb = np.array(bkgPredict)[:,0]\n",
    "\n",
    "tpr = [] \n",
    "fpr = []\n",
    "tpr2 = [] \n",
    "fpr2 = []\n",
    "tpr3 = [] \n",
    "fpr3 = []\n",
    "tprTrain = [] \n",
    "fprTrain = []\n",
    "\n",
    "for x in sigProb: \n",
    "    sigPredictClass = sigPredictSigProb>x \n",
    "    sig2PredictClass = sig2PredictSigProb>x \n",
    "    sig3PredictClass = sig3PredictSigProb>x \n",
    "    sigTrainPredictClass = sigTrainPredictSigProb>x\n",
    "    bkgPredictClass = bkgPredictSigProb>x\n",
    "    \n",
    "    tp1 = sigPredictClass.sum()\n",
    "    fn1 = (1-sigPredictClass).sum()\n",
    "    tn1 = (1-bkgPredictClass).sum()\n",
    "    fp1 = bkgPredictClass.sum()\n",
    "    tpr.append(tp1/(tp1+fn1))\n",
    "    fpr.append(fp1/(fp1+tn1))\n",
    "\n",
    "    tp3 = sig2PredictClass.sum()\n",
    "    fn3 = (1-sig2PredictClass).sum()\n",
    "    tn3 = (1-bkgPredictClass).sum()\n",
    "    fp3 = bkgPredictClass.sum()\n",
    "    tpr2.append(tp3/(tp3+fn3))\n",
    "    fpr2.append(fp3/(fp3+tn3))\n",
    "\n",
    "    tp4 = sig3PredictClass.sum()\n",
    "    fn4 = (1-sig3PredictClass).sum()\n",
    "    tn4 = (1-bkgPredictClass).sum()\n",
    "    fp4 = bkgPredictClass.sum()\n",
    "    tpr3.append(tp4/(tp4+fn4))\n",
    "    fpr3.append(fp4/(fp4+tn4))\n",
    "\n",
    "    tp2 = sigTrainPredictClass.sum()\n",
    "    fn2 = (1-sigTrainPredictClass).sum()\n",
    "    tn2 = (1-bkgPredictClass).sum()\n",
    "    fp2 = bkgPredictClass.sum()\n",
    "    tprTrain.append(tp2/(tp2+fn2))\n",
    "    fprTrain.append(fp2/(fp2+tn2))"
   ]
  },
  {
   "cell_type": "code",
   "execution_count": 40,
   "metadata": {},
   "outputs": [
    {
     "data": {
      "image/png": "[encoded data removed]",
      "text/plain": [
       "<Figure size 432x288 with 1 Axes>"
      ]
     },
     "metadata": {
      "needs_background": "light"
     },
     "output_type": "display_data"
    }
   ],
   "source": [
    "# ROC Curve\n",
    "\n",
    "plt.clf()\n",
    "plt.plot(fpr,tpr, label=\"(200,220,2cm)\")\n",
    "plt.plot(fpr2,tpr2, label=\"(180,220,2cm)\")\n",
    "plt.plot(fpr3,tpr3, label=\"(200,220,DM)\")\n",
    "plt.plot(fprTrain,tprTrain, label=\"(304,324,2cm)\")\n",
    "plt.xlabel(\"False Positive Rate\")\n",
    "plt.ylabel(\"True Positive Rate\")\n",
    "#plt.xscale('log')\n",
    "plt.legend()\n",
    "plt.savefig(\"roc.pdf\")"
   ]
  },
  {
   "cell_type": "code",
   "execution_count": 17,
   "metadata": {},
   "outputs": [
    {
     "name": "stdout",
     "output_type": "stream",
     "text": [
      "3.1884507916796023\n"
     ]
    }
   ],
   "source": [
    "# Factor to calculate the disciminator cut\n",
    "# Aim to reduce the number of background events to before the PT interpolation\n",
    "# 0.95CL Kappa Factor = 1288.4\n",
    "# No. of bkg events surviving the disc cut = 4108/1288.4\n",
    "bkgSurv = 4108/1288.4\n",
    "print(bkgSurv)"
   ]
  },
  {
   "cell_type": "code",
   "execution_count": 18,
   "metadata": {},
   "outputs": [
    {
     "name": "stdout",
     "output_type": "stream",
     "text": [
      "3\n"
     ]
    }
   ],
   "source": [
    "x = 0.98\n",
    "bkgPredictSigProb = np.array(bkgPredict)[:,0]\n",
    "bkgPredictClass = bkgPredictSigProb>x\n",
    "\n",
    "print(bkgPredictClass.sum())"
   ]
  },
  {
   "cell_type": "code",
   "execution_count": 19,
   "metadata": {},
   "outputs": [
    {
     "name": "stdout",
     "output_type": "stream",
     "text": [
      "6996\n",
      "2758\n",
      "544\n",
      "17673\n"
     ]
    }
   ],
   "source": [
    "sigPredictSigProb = np.array(sigPredict)[:,0] \n",
    "sig2PredictSigProb = np.array(sigPredict2)[:,0] \n",
    "sig3PredictSigProb = np.array(sigPredict3)[:,0] \n",
    "sigTrainPredictSigProb = np.array(sigTrainPredict)[:,0] \n",
    "\n",
    "sigPredictClass = sigPredictSigProb>x \n",
    "sig2PredictClass = sig2PredictSigProb>x \n",
    "sig3PredictClass = sig3PredictSigProb>x \n",
    "sigTrainPredictClass = sigTrainPredictSigProb>x\n",
    "\n",
    "print(sigPredictClass.sum())\n",
    "print(sig2PredictClass.sum())\n",
    "print(sig3PredictClass.sum())\n",
    "print(sigTrainPredictClass.sum())"
   ]
  },
  {
   "cell_type": "code",
   "execution_count": 21,
   "metadata": {},
   "outputs": [
    {
     "data": {
      "text/plain": [
       "0.35408442150015185"
      ]
     },
     "execution_count": 21,
     "metadata": {},
     "output_type": "execute_result"
    }
   ],
   "source": [
    "6996.0/19758"
   ]
  },
  {
   "cell_type": "code",
   "execution_count": 22,
   "metadata": {},
   "outputs": [
    {
     "data": {
      "text/plain": [
       "0.27582758275827585"
      ]
     },
     "execution_count": 22,
     "metadata": {},
     "output_type": "execute_result"
    }
   ],
   "source": [
    "2758/9999.0"
   ]
  },
  {
   "cell_type": "code",
   "execution_count": 23,
   "metadata": {},
   "outputs": [
    {
     "data": {
      "text/plain": [
       "0.3034021193530396"
      ]
     },
     "execution_count": 23,
     "metadata": {},
     "output_type": "execute_result"
    }
   ],
   "source": [
    "544/1793.0"
   ]
  },
  {
   "cell_type": "code",
   "execution_count": 24,
   "metadata": {},
   "outputs": [
    {
     "data": {
      "text/plain": [
       "0.3976822682268227"
      ]
     },
     "execution_count": 24,
     "metadata": {},
     "output_type": "execute_result"
    }
   ],
   "source": [
    "17673/44440.0"
   ]
  },
  {
   "cell_type": "code",
   "execution_count": 53,
   "metadata": {},
   "outputs": [
    {
     "name": "stdout",
     "output_type": "stream",
     "text": [
      "2346.6820000000002 2346.6820000000002 260.0 331.8666\n"
     ]
    }
   ],
   "source": [
    "sigXsec = 902.57\n",
    "sig2Xsec = 902.57\n",
    "sig3Xsec = 100\n",
    "sigTrainXsec = 127.641\n",
    "\n",
    "Lumi = 2.6\n",
    "\n",
    "N = Lumi*sigXsec\n",
    "N2 = Lumi*sig2Xsec\n",
    "N3 = Lumi*sig3Xsec\n",
    "NTrain = Lumi*sigTrainXsec\n",
    "\n",
    "print(N, N2, N3, NTrain)"
   ]
  },
  {
   "cell_type": "code",
   "execution_count": 59,
   "metadata": {},
   "outputs": [],
   "source": [
    "def sig(s,b):\n",
    "    return s/math.sqrt(s+b)"
   ]
  },
  {
   "cell_type": "code",
   "execution_count": 60,
   "metadata": {},
   "outputs": [
    {
     "data": {
      "text/plain": [
       "29.175558924024354"
      ]
     },
     "execution_count": 60,
     "metadata": {},
     "output_type": "execute_result"
    }
   ],
   "source": [
    "sig(2346.68,4122.8)"
   ]
  },
  {
   "cell_type": "code",
   "execution_count": null,
   "metadata": {},
   "outputs": [],
   "source": []
  }
 ],
 "metadata": {
  "kernelspec": {
   "display_name": "Python 3",
   "language": "python",
   "name": "python3"
  },
  "language_info": {
   "codemirror_mode": {
    "name": "ipython",
    "version": 3
   },
   "file_extension": ".py",
   "mimetype": "text/x-python",
   "name": "python",
   "nbconvert_exporter": "python",
   "pygments_lexer": "ipython3",
   "version": "3.6.9"
  }
 },
 "nbformat": 4,
 "nbformat_minor": 4
}
