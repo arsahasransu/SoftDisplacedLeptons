{
 "cells": [
  {
   "cell_type": "code",
   "execution_count": 1,
   "metadata": {},
   "outputs": [
    {
     "name": "stdout",
     "output_type": "stream",
     "text": [
      "Welcome to JupyROOT 6.18/04\n",
      "All classes initialized successfully!!!\n",
      "Trial works fine. Hello,AR\n"
     ]
    }
   ],
   "source": [
    "import tensorflow as tf\n",
    "from tensorflow.python.keras import models as m\n",
    "from tensorflow.python.keras import layers as l\n",
    "\n",
    "import math\n",
    "import numpy as np\n",
    "import matplotlib.pyplot as plt\n",
    "from sklearn.preprocessing import StandardScaler\n",
    "import joblib\n",
    "from sklearn.metrics import confusion_matrix, fbeta_score\n",
    "from scikitplot.metrics import plot_roc, plot_confusion_matrix\n",
    "\n",
    "import seaborn as sn\n",
    "import pandas as pd\n",
    "\n",
    "from ROOT import TFile, TTree, TChain\n",
    "from ROOT import TH1D, TH2D, TCanvas\n",
    "from ROOT import gDirectory, TGraph, TMultiGraph\n",
    "import ROOT as rt\n",
    "import os\n",
    "import sys\n",
    "sys.path.insert(0, os.path.abspath('/home/arsahasransu/Documents/SoftDisplacedLeptons/Classifier/'))\n",
    "\n",
    "print(\"All classes initialized successfully!!!\")\n",
    "\n",
    "\n",
    "import plotBeautifier as pB\n",
    "pB.trial_func(\"AR\")"
   ]
  },
  {
   "cell_type": "code",
   "execution_count": 3,
   "metadata": {},
   "outputs": [],
   "source": [
    "bkgchain = TChain(\"varTree\")\n",
    "bkgchain.Add(\"../background.root\")\n",
    "bkgfull = bkgchain.AsMatrix()\n",
    "    \n",
    "# Load the input data scaler\n",
    "scaler = joblib.load(\"../Classifier/scaler.save\")\n",
    "\n",
    "# Load the model\n",
    "loaded_model = m.load_model(\"../Classifier/simplePer.h5\")\n",
    "\n",
    "bkgscaled = scaler.transform(bkgfull)\n",
    "bkgpredict = loaded_model.predict(bkgscaled)\n",
    "\n",
    "bkgsigprob = np.array(bkgpredict)[:,0]"
   ]
  },
  {
   "cell_type": "code",
   "execution_count": 19,
   "metadata": {},
   "outputs": [
    {
     "name": "stdout",
     "output_type": "stream",
     "text": [
      "[0.61350241 0.74876499 0.70520688 ... 0.87135611 0.72785469 0.7323452 ]\n",
      "[0.99796224 0.77449995 0.7618678  ... 0.90468025 0.9929645  0.9992895 ]\n",
      "[1 0 0 ... 1 1 1]\n",
      "35632.23298511684\n"
     ]
    }
   ],
   "source": [
    "discut = 0.9\n",
    "\n",
    "sigchain = TChain(\"varTree\")\n",
    "sigchain.Add(\"../BP_200_40_20.root\")\n",
    "\n",
    "sigfull = sigchain.AsMatrix()\n",
    "sigfull = np.transpose(sigfull)\n",
    "\n",
    "evntweight = sigfull[0]\n",
    "d0el = sigfull[1]\n",
    "domu = sigfull[2]\n",
    "sigfull = sigfull[3:12]\n",
    "sigfull = np.transpose(sigfull)\n",
    "\n",
    "sigscaled = scaler.transform(sigfull)\n",
    "sigpredict = loaded_model.predict(sigscaled)\n",
    "sigsigprob = np.array(sigpredict)[:,0]\n",
    "sigclass = np.array(sigsigprob>=discut, dtype=int)\n",
    "evntcnt = evntweight*sigclass\n",
    "\n",
    "print(evntweight)\n",
    "print(sigsigprob)\n",
    "print(sigclass)\n",
    "print(evntcnt.sum())"
   ]
  },
  {
   "cell_type": "code",
   "execution_count": null,
   "metadata": {},
   "outputs": [],
   "source": []
  }
 ],
 "metadata": {
  "kernelspec": {
   "display_name": "Python 3",
   "language": "python",
   "name": "python3"
  },
  "language_info": {
   "codemirror_mode": {
    "name": "ipython",
    "version": 3
   },
   "file_extension": ".py",
   "mimetype": "text/x-python",
   "name": "python",
   "nbconvert_exporter": "python",
   "pygments_lexer": "ipython3",
   "version": "3.6.9"
  }
 },
 "nbformat": 4,
 "nbformat_minor": 4
}
