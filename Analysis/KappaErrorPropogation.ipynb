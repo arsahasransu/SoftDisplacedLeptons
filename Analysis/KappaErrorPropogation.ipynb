{
 "cells": [
  {
   "cell_type": "code",
   "execution_count": 1,
   "metadata": {},
   "outputs": [],
   "source": [
    "import numpy as np\n",
    "import math as m"
   ]
  },
  {
   "cell_type": "code",
   "execution_count": 2,
   "metadata": {},
   "outputs": [],
   "source": [
    "kappaEl = np.array([2.67, 5.94, 14.55, 39.19])\n",
    "errKappaEl = np.array([0.14, 0.28, 0.66, 1.73])\n",
    "kappaMu = np.array([2.06, 4.57, 11.04, 29.08])\n",
    "errKappaMu = np.array([0.12, 0.24, 0.55, 1.45])"
   ]
  },
  {
   "cell_type": "code",
   "execution_count": 3,
   "metadata": {},
   "outputs": [
    {
     "name": "stdout",
     "output_type": "stream",
     "text": [
      "5.5 0.43 0.84 0.84\n",
      "27.15 1.92 3.75 3.75\n",
      "160.63 10.82 21.21 21.21\n",
      "1139.65 75.9 148.75 148.75\n"
     ]
    }
   ],
   "source": [
    "kappaElMu = np.array([])\n",
    "errKappaElMu = np.array([])\n",
    "for (v1,e1,v2,e2) in zip(kappaEl,errKappaEl,kappaMu,errKappaMu):\n",
    "    \n",
    "    x = v1*v2\n",
    "    ex = m.sqrt(m.pow(e1/v1,2)+m.pow(e2/v2,2))*x\n",
    "    \n",
    "    k = 1.96\n",
    "    ex2 = m.sqrt(m.pow(e1*k/v1,2)+m.pow(e2*k/v2,2))*x\n",
    "    \n",
    "    print(round(x,2),round(ex,2),round(ex2,2),round(ex*k,2))\n",
    "    \n",
    "    kappaElMu = np.append(kappaElMu, [x])\n",
    "    errKappaElMu = np.append(errKappaElMu, [ex])"
   ]
  },
  {
   "cell_type": "code",
   "execution_count": 4,
   "metadata": {},
   "outputs": [
    {
     "data": {
      "text/plain": [
       "array([   5.5002,   27.1458,  160.632 , 1139.6452])"
      ]
     },
     "execution_count": 4,
     "metadata": {},
     "output_type": "execute_result"
    }
   ],
   "source": [
    "kappaElMu"
   ]
  },
  {
   "cell_type": "code",
   "execution_count": 5,
   "metadata": {},
   "outputs": [
    {
     "data": {
      "text/plain": [
       "array([ 0.43108087,  1.91564911, 10.82273677, 75.89514188])"
      ]
     },
     "execution_count": 5,
     "metadata": {},
     "output_type": "execute_result"
    }
   ],
   "source": [
    "errKappaElMu"
   ]
  },
  {
   "cell_type": "code",
   "execution_count": 6,
   "metadata": {},
   "outputs": [
    {
     "data": {
      "text/plain": [
       "1288.4"
      ]
     },
     "execution_count": 6,
     "metadata": {},
     "output_type": "execute_result"
    }
   ],
   "source": [
    "1139.65+148.75"
   ]
  },
  {
   "cell_type": "code",
   "execution_count": null,
   "metadata": {},
   "outputs": [],
   "source": []
  }
 ],
 "metadata": {
  "kernelspec": {
   "display_name": "Python 3",
   "language": "python",
   "name": "python3"
  },
  "language_info": {
   "codemirror_mode": {
    "name": "ipython",
    "version": 3
   },
   "file_extension": ".py",
   "mimetype": "text/x-python",
   "name": "python",
   "nbconvert_exporter": "python",
   "pygments_lexer": "ipython3",
   "version": "3.6.9"
  }
 },
 "nbformat": 4,
 "nbformat_minor": 4
}
